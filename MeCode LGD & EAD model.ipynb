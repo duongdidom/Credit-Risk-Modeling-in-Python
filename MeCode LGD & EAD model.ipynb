{
 "cells": [
  {
   "cell_type": "code",
   "execution_count": 2,
   "metadata": {},
   "outputs": [],
   "source": [
    "import numpy as np\n",
    "import pandas as pd\n",
    "import os"
   ]
  },
  {
   "cell_type": "code",
   "execution_count": 3,
   "metadata": {},
   "outputs": [],
   "source": [
    "#NOTE: for LGD, EAD model, we don't care about weight of evidence. for discrete variables, We can simply create as many dummy variables as there are categories. And for continuous variables, can use them as they are, or transform them if "
   ]
  },
  {
   "cell_type": "markdown",
   "metadata": {},
   "source": [
    "# import data"
   ]
  },
  {
   "cell_type": "code",
   "execution_count": 4,
   "metadata": {},
   "outputs": [
    {
     "name": "stderr",
     "output_type": "stream",
     "text": [
      "c:\\Users\\DDD\\anaconda3\\envs\\CreditRiskModeling\\lib\\site-packages\\IPython\\core\\interactiveshell.py:3146: DtypeWarning: Columns (21,49) have mixed types.Specify dtype option on import or set low_memory=False.\n",
      "  has_raised = await self.run_ast_nodes(code_ast.body, cell_name,\n"
     ]
    }
   ],
   "source": [
    "path_datamart = r'C:\\Users\\DDD\\Google Drive\\Coding\\Python\\Credit Risk Modeling in Python\\Datamart'\n",
    "loan_data_preprocessed = pd.read_csv(os.path.join(path_datamart, 'loan_data_2007_2014_preprocessed.csv'), index_col=0)  # used the preprocessed data like what we have processed in the Data Prep notebook. However, for all population.\n",
    "loan_data_preprocessed_backup = loan_data_preprocessed.copy()"
   ]
  },
  {
   "cell_type": "code",
   "execution_count": 5,
   "metadata": {},
   "outputs": [],
   "source": [
    "# to compute LGD, EAD, need to allow sometimes for the customer to repay the owed amount. Plus, the lender could also take some action (sell house) to recover part of the debt --> only compute for those accounts that have been written off --> loan_status = Charged Off + Does not meet the credit policy.\n",
    "loan_data_defaults = loan_data_preprocessed[loan_data_preprocessed['loan_status'].isin([\n",
    "    'Charged Off',\n",
    "    'Does not meet the credit policy. Status:Charged Off'\n",
    "])]"
   ]
  },
  {
   "cell_type": "code",
   "execution_count": 6,
   "metadata": {},
   "outputs": [
    {
     "name": "stdout",
     "output_type": "stream",
     "text": [
      "(466285, 208)\n",
      "(43236, 208)\n"
     ]
    }
   ],
   "source": [
    "print(loan_data_preprocessed.shape)\n",
    "print(loan_data_defaults.shape)"
   ]
  },
  {
   "cell_type": "markdown",
   "metadata": {},
   "source": [
    "# data prep"
   ]
  },
  {
   "cell_type": "markdown",
   "metadata": {},
   "source": [
    "## independent variable"
   ]
  },
  {
   "cell_type": "code",
   "execution_count": 7,
   "metadata": {},
   "outputs": [
    {
     "data": {
      "text/plain": [
       "Unnamed: 0.1             0\n",
       "id                       0\n",
       "member_id                0\n",
       "loan_amnt                0\n",
       "funded_amnt              0\n",
       "                        ..\n",
       "addr_state:WV            0\n",
       "addr_state:WY            0\n",
       "initial_list_status:f    0\n",
       "initial_list_status:w    0\n",
       "good_bad                 0\n",
       "Length: 208, dtype: int64"
      ]
     },
     "execution_count": 7,
     "metadata": {},
     "output_type": "execute_result"
    }
   ],
   "source": [
    "loan_data_defaults.isnull().sum()       # count number of null rows in each variable\n",
    "#NOTE: in any other occassion, have to consider whether imputing the variable is appropriate. In this current situation, it is sufficient to just impute missing values for Mths_since_last_delinq and Mths_since_last_record to be zero. "
   ]
  },
  {
   "cell_type": "code",
   "execution_count": 8,
   "metadata": {},
   "outputs": [
    {
     "name": "stderr",
     "output_type": "stream",
     "text": [
      "c:\\Users\\DDD\\anaconda3\\envs\\CreditRiskModeling\\lib\\site-packages\\pandas\\core\\series.py:4517: SettingWithCopyWarning: \n",
      "A value is trying to be set on a copy of a slice from a DataFrame\n",
      "\n",
      "See the caveats in the documentation: https://pandas.pydata.org/pandas-docs/stable/user_guide/indexing.html#returning-a-view-versus-a-copy\n",
      "  return super().fillna(\n"
     ]
    }
   ],
   "source": [
    "loan_data_defaults['mths_since_last_delinq'].fillna(0, inplace=True)\n",
    "loan_data_defaults['mths_since_last_record'].fillna(0, inplace=True)"
   ]
  },
  {
   "cell_type": "markdown",
   "metadata": {},
   "source": [
    "## dependent variable"
   ]
  },
  {
   "cell_type": "markdown",
   "metadata": {},
   "source": [
    "### LGD = 1 - Recovery rate"
   ]
  },
  {
   "cell_type": "code",
   "execution_count": 9,
   "metadata": {},
   "outputs": [
    {
     "name": "stderr",
     "output_type": "stream",
     "text": [
      "<ipython-input-9-5ed9733f8333>:2: SettingWithCopyWarning: \n",
      "A value is trying to be set on a copy of a slice from a DataFrame.\n",
      "Try using .loc[row_indexer,col_indexer] = value instead\n",
      "\n",
      "See the caveats in the documentation: https://pandas.pydata.org/pandas-docs/stable/user_guide/indexing.html#returning-a-view-versus-a-copy\n",
      "  loan_data_defaults['recovery_rate'] = loan_data_defaults['recoveries'] / loan_data_defaults['funded_amnt']\n"
     ]
    },
    {
     "data": {
      "text/plain": [
       "count    43236.000000\n",
       "mean         0.060820\n",
       "std          0.089770\n",
       "min          0.000000\n",
       "25%          0.000000\n",
       "50%          0.029466\n",
       "75%          0.114044\n",
       "max          1.220774\n",
       "Name: recovery_rate, dtype: float64"
      ]
     },
     "execution_count": 9,
     "metadata": {},
     "output_type": "execute_result"
    }
   ],
   "source": [
    "# For LGD, usually work with recovery rate --> then derive LGD.\n",
    "loan_data_defaults['recovery_rate'] = loan_data_defaults['recoveries'] / loan_data_defaults['funded_amnt']\n",
    "loan_data_defaults['recovery_rate'].describe()"
   ]
  },
  {
   "cell_type": "code",
   "execution_count": 10,
   "metadata": {},
   "outputs": [
    {
     "name": "stderr",
     "output_type": "stream",
     "text": [
      "<ipython-input-10-d967ec590e58>:2: SettingWithCopyWarning: \n",
      "A value is trying to be set on a copy of a slice from a DataFrame.\n",
      "Try using .loc[row_indexer,col_indexer] = value instead\n",
      "\n",
      "See the caveats in the documentation: https://pandas.pydata.org/pandas-docs/stable/user_guide/indexing.html#returning-a-view-versus-a-copy\n",
      "  loan_data_defaults['recovery_rate'] = np.where(loan_data_defaults['recovery_rate'] > 1, 1, loan_data_defaults['recovery_rate'])\n",
      "<ipython-input-10-d967ec590e58>:3: SettingWithCopyWarning: \n",
      "A value is trying to be set on a copy of a slice from a DataFrame.\n",
      "Try using .loc[row_indexer,col_indexer] = value instead\n",
      "\n",
      "See the caveats in the documentation: https://pandas.pydata.org/pandas-docs/stable/user_guide/indexing.html#returning-a-view-versus-a-copy\n",
      "  loan_data_defaults['recovery_rate'] = np.where(loan_data_defaults['recovery_rate'] < 0, 0, loan_data_defaults['recovery_rate'])\n"
     ]
    },
    {
     "data": {
      "text/plain": [
       "count    43236.000000\n",
       "mean         0.060770\n",
       "std          0.089202\n",
       "min          0.000000\n",
       "25%          0.000000\n",
       "50%          0.029466\n",
       "75%          0.114044\n",
       "max          1.000000\n",
       "Name: recovery_rate, dtype: float64"
      ]
     },
     "execution_count": 10,
     "metadata": {},
     "output_type": "execute_result"
    }
   ],
   "source": [
    "# since the max value of recovery rate is higher than 100% --> does not make sense --> adjust the recovery rate for extreme cases\n",
    "loan_data_defaults['recovery_rate'] = np.where(loan_data_defaults['recovery_rate'] > 1, 1, loan_data_defaults['recovery_rate'])\n",
    "loan_data_defaults['recovery_rate'] = np.where(loan_data_defaults['recovery_rate'] < 0, 0, loan_data_defaults['recovery_rate'])\n",
    "loan_data_defaults['recovery_rate'].describe()"
   ]
  },
  {
   "cell_type": "markdown",
   "metadata": {},
   "source": [
    "### EAD = total funded amount * credit conversion factor"
   ]
  },
  {
   "cell_type": "code",
   "execution_count": 11,
   "metadata": {},
   "outputs": [
    {
     "name": "stderr",
     "output_type": "stream",
     "text": [
      "<ipython-input-11-8d071323b43e>:3: SettingWithCopyWarning: \n",
      "A value is trying to be set on a copy of a slice from a DataFrame.\n",
      "Try using .loc[row_indexer,col_indexer] = value instead\n",
      "\n",
      "See the caveats in the documentation: https://pandas.pydata.org/pandas-docs/stable/user_guide/indexing.html#returning-a-view-versus-a-copy\n",
      "  loan_data_defaults['CCF'] = (loan_data_defaults['funded_amnt'] - loan_data_defaults['total_rec_prncp'])/loan_data_defaults['funded_amnt']\n"
     ]
    },
    {
     "data": {
      "text/plain": [
       "count    43236.000000\n",
       "mean         0.735952\n",
       "std          0.200742\n",
       "min          0.000438\n",
       "25%          0.632088\n",
       "50%          0.789908\n",
       "75%          0.888543\n",
       "max          1.000000\n",
       "Name: CCF, dtype: float64"
      ]
     },
     "execution_count": 11,
     "metadata": {},
     "output_type": "execute_result"
    }
   ],
   "source": [
    "# CCF = credit conversion factor = proportion of total exposure, at moment of default = what is remained in the principal, after deducting all of the principal payment the borrower has made. Expressed as % of funded amount\n",
    "# CCF = 0 if all principal has been paid. = 1 if nothing has been paid\n",
    "loan_data_defaults['CCF'] = (loan_data_defaults['funded_amnt'] - loan_data_defaults['total_rec_prncp'])/loan_data_defaults['funded_amnt']\n",
    "loan_data_defaults['CCF'].describe()"
   ]
  },
  {
   "cell_type": "code",
   "execution_count": 12,
   "metadata": {},
   "outputs": [],
   "source": [
    "loan_data_defaults.to_csv(os.path.join(path_datamart, 'loan_data_defaults.csv'))"
   ]
  },
  {
   "cell_type": "markdown",
   "metadata": {},
   "source": [
    "### visualise"
   ]
  },
  {
   "cell_type": "code",
   "execution_count": 13,
   "metadata": {},
   "outputs": [],
   "source": [
    "import matplotlib.pyplot as plt\n",
    "import seaborn as sns \n",
    "sns.set()"
   ]
  },
  {
   "cell_type": "code",
   "execution_count": 14,
   "metadata": {},
   "outputs": [
    {
     "data": {
      "text/plain": [
       "(array([2.1023e+04, 1.8370e+03, 3.8730e+03, 1.3940e+03, 2.1330e+03,\n",
       "        3.3440e+03, 4.7650e+03, 1.7130e+03, 1.1790e+03, 4.0600e+02,\n",
       "        3.4100e+02, 2.7400e+02, 1.1700e+02, 9.3000e+01, 8.1000e+01,\n",
       "        7.3000e+01, 5.4000e+01, 7.2000e+01, 5.7000e+01, 3.0000e+01,\n",
       "        4.7000e+01, 2.7000e+01, 1.7000e+01, 1.5000e+01, 2.0000e+01,\n",
       "        2.3000e+01, 1.7000e+01, 7.0000e+00, 1.1000e+01, 7.0000e+00,\n",
       "        8.0000e+00, 7.0000e+00, 7.0000e+00, 8.0000e+00, 7.0000e+00,\n",
       "        1.0000e+01, 6.0000e+00, 1.1000e+01, 9.0000e+00, 9.0000e+00,\n",
       "        6.0000e+00, 6.0000e+00, 6.0000e+00, 3.0000e+00, 9.0000e+00,\n",
       "        9.0000e+00, 1.5000e+01, 8.0000e+00, 9.0000e+00, 3.3000e+01]),\n",
       " array([0.  , 0.02, 0.04, 0.06, 0.08, 0.1 , 0.12, 0.14, 0.16, 0.18, 0.2 ,\n",
       "        0.22, 0.24, 0.26, 0.28, 0.3 , 0.32, 0.34, 0.36, 0.38, 0.4 , 0.42,\n",
       "        0.44, 0.46, 0.48, 0.5 , 0.52, 0.54, 0.56, 0.58, 0.6 , 0.62, 0.64,\n",
       "        0.66, 0.68, 0.7 , 0.72, 0.74, 0.76, 0.78, 0.8 , 0.82, 0.84, 0.86,\n",
       "        0.88, 0.9 , 0.92, 0.94, 0.96, 0.98, 1.  ]),\n",
       " <BarContainer object of 50 artists>)"
      ]
     },
     "execution_count": 14,
     "metadata": {},
     "output_type": "execute_result"
    },
    {
     "data": {
      "image/png": "[encoded data removed]",
      "text/plain": [
       "<Figure size 432x288 with 1 Axes>"
      ]
     },
     "metadata": {},
     "output_type": "display_data"
    }
   ],
   "source": [
    "plt.hist(loan_data_defaults['recovery_rate'], bins=50)      # plot histogram recovery rate"
   ]
  },
  {
   "cell_type": "code",
   "execution_count": 15,
   "metadata": {},
   "outputs": [
    {
     "data": {
      "text/plain": [
       "(array([   3.,   17.,   16.,   44.,   16.,   13.,   71.,   26.,    7.,\n",
       "          63.,   67.,   17.,   60.,   90.,   23.,   55.,   82.,   42.,\n",
       "          47.,  123.,   82.,   70.,  122.,   86.,   89.,  110.,  117.,\n",
       "         111.,  122.,  120.,  135.,  141.,  154.,  146.,  160.,  175.,\n",
       "         152.,  187.,  202.,  174.,  204.,  208.,  210.,  211.,  241.,\n",
       "         264.,  281.,  224.,  308.,  267.,  287.,  296.,  340.,  274.,\n",
       "         365.,  370.,  392.,  364.,  393.,  419.,  411.,  429.,  445.,\n",
       "         497.,  481.,  478.,  569.,  568.,  599.,  618.,  727.,  691.,\n",
       "         626.,  805.,  804.,  776.,  881.,  851.,  916.,  934.,  925.,\n",
       "        1078.,  933., 1218., 1041., 1082., 1336., 1040., 1374., 1073.,\n",
       "        1406., 1287.,  952., 1414.,  795., 1320.,  578.,  949.,  343.,\n",
       "         531.]),\n",
       " array([4.3800000e-04, 1.0433620e-02, 2.0429240e-02, 3.0424860e-02,\n",
       "        4.0420480e-02, 5.0416100e-02, 6.0411720e-02, 7.0407340e-02,\n",
       "        8.0402960e-02, 9.0398580e-02, 1.0039420e-01, 1.1038982e-01,\n",
       "        1.2038544e-01, 1.3038106e-01, 1.4037668e-01, 1.5037230e-01,\n",
       "        1.6036792e-01, 1.7036354e-01, 1.8035916e-01, 1.9035478e-01,\n",
       "        2.0035040e-01, 2.1034602e-01, 2.2034164e-01, 2.3033726e-01,\n",
       "        2.4033288e-01, 2.5032850e-01, 2.6032412e-01, 2.7031974e-01,\n",
       "        2.8031536e-01, 2.9031098e-01, 3.0030660e-01, 3.1030222e-01,\n",
       "        3.2029784e-01, 3.3029346e-01, 3.4028908e-01, 3.5028470e-01,\n",
       "        3.6028032e-01, 3.7027594e-01, 3.8027156e-01, 3.9026718e-01,\n",
       "        4.0026280e-01, 4.1025842e-01, 4.2025404e-01, 4.3024966e-01,\n",
       "        4.4024528e-01, 4.5024090e-01, 4.6023652e-01, 4.7023214e-01,\n",
       "        4.8022776e-01, 4.9022338e-01, 5.0021900e-01, 5.1021462e-01,\n",
       "        5.2021024e-01, 5.3020586e-01, 5.4020148e-01, 5.5019710e-01,\n",
       "        5.6019272e-01, 5.7018834e-01, 5.8018396e-01, 5.9017958e-01,\n",
       "        6.0017520e-01, 6.1017082e-01, 6.2016644e-01, 6.3016206e-01,\n",
       "        6.4015768e-01, 6.5015330e-01, 6.6014892e-01, 6.7014454e-01,\n",
       "        6.8014016e-01, 6.9013578e-01, 7.0013140e-01, 7.1012702e-01,\n",
       "        7.2012264e-01, 7.3011826e-01, 7.4011388e-01, 7.5010950e-01,\n",
       "        7.6010512e-01, 7.7010074e-01, 7.8009636e-01, 7.9009198e-01,\n",
       "        8.0008760e-01, 8.1008322e-01, 8.2007884e-01, 8.3007446e-01,\n",
       "        8.4007008e-01, 8.5006570e-01, 8.6006132e-01, 8.7005694e-01,\n",
       "        8.8005256e-01, 8.9004818e-01, 9.0004380e-01, 9.1003942e-01,\n",
       "        9.2003504e-01, 9.3003066e-01, 9.4002628e-01, 9.5002190e-01,\n",
       "        9.6001752e-01, 9.7001314e-01, 9.8000876e-01, 9.9000438e-01,\n",
       "        1.0000000e+00]),\n",
       " <BarContainer object of 100 artists>)"
      ]
     },
     "execution_count": 15,
     "metadata": {},
     "output_type": "execute_result"
    },
    {
     "data": {
      "image/png": "[encoded data removed]",
      "text/plain": [
       "<Figure size 432x288 with 1 Axes>"
      ]
     },
     "metadata": {},
     "output_type": "display_data"
    }
   ],
   "source": [
    "plt.hist(loan_data_defaults['CCF'], bins=100)      # plot histogram credit conversion factor"
   ]
  },
  {
   "cell_type": "markdown",
   "metadata": {},
   "source": [
    "# procedure"
   ]
  },
  {
   "cell_type": "code",
   "execution_count": 16,
   "metadata": {},
   "outputs": [],
   "source": [
    "#NOTE: The 2 LGD and EAD are constrained between 0 and 1 --> best described as Beta distribution --> but python does not have a package to regress Beta yet. Although R has. In this case, we will use logistic and linear regression\n",
    "\n",
    "# LGD:\n",
    "# 50% of the population has Recovery Rate of 0 --> create a boolean, to check if the Recovery Rate is 0, Logistic Regression. \n",
    "# if Recovery Rate is other than 0 --> use Linear Regression to estimate recovery rate. \n",
    "\n",
    "# CCF: \n",
    "# can use Linear Regression model"
   ]
  },
  {
   "cell_type": "markdown",
   "metadata": {},
   "source": [
    "# LGD"
   ]
  },
  {
   "cell_type": "markdown",
   "metadata": {},
   "source": [
    "## Stage 1: Logistic Regression"
   ]
  },
  {
   "cell_type": "code",
   "execution_count": 17,
   "metadata": {},
   "outputs": [
    {
     "name": "stderr",
     "output_type": "stream",
     "text": [
      "<ipython-input-17-6879da58c53c>:1: SettingWithCopyWarning: \n",
      "A value is trying to be set on a copy of a slice from a DataFrame.\n",
      "Try using .loc[row_indexer,col_indexer] = value instead\n",
      "\n",
      "See the caveats in the documentation: https://pandas.pydata.org/pandas-docs/stable/user_guide/indexing.html#returning-a-view-versus-a-copy\n",
      "  loan_data_defaults['recovery_rate_0_boolean'] = np.where(loan_data_defaults['recovery_rate'] == 0, 0, 1) # create boolean variable, if recovery rate is 0 or not\n"
     ]
    }
   ],
   "source": [
    "loan_data_defaults['recovery_rate_0_boolean'] = np.where(loan_data_defaults['recovery_rate'] == 0, 0, 1) # create boolean variable, if recovery rate is 0 or not"
   ]
  },
  {
   "cell_type": "markdown",
   "metadata": {},
   "source": [
    "### split train & test dataset"
   ]
  },
  {
   "cell_type": "code",
   "execution_count": 18,
   "metadata": {},
   "outputs": [],
   "source": [
    "from sklearn.model_selection import train_test_split"
   ]
  },
  {
   "cell_type": "code",
   "execution_count": 19,
   "metadata": {},
   "outputs": [],
   "source": [
    "LGD_inputs_stage_1_train, LGD_inputs_stage_1_test, LGD_targets_stage_1_train, LGD_targets_stage_1_test = train_test_split(\n",
    "    loan_data_defaults.drop(['good_bad','recovery_rate','recovery_rate_0_boolean','CCF'], axis=1), \n",
    "    loan_data_defaults['recovery_rate_0_boolean'], \n",
    "    test_size=0.2,\n",
    "    random_state=42\n",
    ")"
   ]
  },
  {
   "cell_type": "code",
   "execution_count": 20,
   "metadata": {},
   "outputs": [],
   "source": [
    "# create a list contains all dummies and continuous variables that would be used to predict LGD --> use the reference category list in PD model as this list\n",
    "features_all = [\n",
    "    'grade:A',\n",
    "    'grade:B',\n",
    "    'grade:C',\n",
    "    'grade:D',\n",
    "    'grade:E',\n",
    "    'grade:F',\n",
    "    'grade:G',\n",
    "    'home_ownership:MORTGAGE',\n",
    "    'home_ownership:NONE',\n",
    "    'home_ownership:OTHER',\n",
    "    'home_ownership:OWN',\n",
    "    'home_ownership:RENT',\n",
    "    'verification_status:Not Verified',\n",
    "    'verification_status:Source Verified',\n",
    "    'verification_status:Verified',\n",
    "    'purpose:car',\n",
    "    'purpose:credit_card',\n",
    "    'purpose:debt_consolidation',\n",
    "    'purpose:educational',\n",
    "    'purpose:home_improvement',\n",
    "    'purpose:house',\n",
    "    'purpose:major_purchase',\n",
    "    'purpose:medical',\n",
    "    'purpose:moving',\n",
    "    'purpose:other',\n",
    "    'purpose:renewable_energy',\n",
    "    'purpose:small_business',\n",
    "    'purpose:vacation',\n",
    "    'purpose:wedding',\n",
    "    'initial_list_status:f',\n",
    "    'initial_list_status:w',\n",
    "    'term_int',\n",
    "    'emp_length_int',\n",
    "    'mths_since_issue_d',\n",
    "    'mths_since_earliest_cr_line',\n",
    "    'funded_amnt',\n",
    "    'int_rate',\n",
    "    'installment',\n",
    "    'annual_inc',\n",
    "    'dti',\n",
    "    'delinq_2yrs',\n",
    "    'inq_last_6mths',\n",
    "    'mths_since_last_delinq',\n",
    "    'mths_since_last_record',\n",
    "    'open_acc',\n",
    "    'pub_rec',\n",
    "    'total_acc',\n",
    "    'acc_now_delinq',\n",
    "    'total_rev_hi_lim'\n",
    "]"
   ]
  },
  {
   "cell_type": "code",
   "execution_count": 21,
   "metadata": {},
   "outputs": [],
   "source": [
    "# dummy variables for the discrete original variables = reference categories\n",
    "features_reference_cat = [\n",
    "    'grade:G',\n",
    "    'home_ownership:RENT',\n",
    "    'verification_status:Verified',\n",
    "    'purpose:credit_card',\n",
    "    'initial_list_status:f'\n",
    "]"
   ]
  },
  {
   "cell_type": "code",
   "execution_count": 22,
   "metadata": {},
   "outputs": [
    {
     "data": {
      "text/plain": [
       "grade:A                                0\n",
       "grade:B                                0\n",
       "grade:C                                0\n",
       "grade:D                                0\n",
       "grade:E                                0\n",
       "grade:F                                0\n",
       "home_ownership:MORTGAGE                0\n",
       "home_ownership:NONE                    0\n",
       "home_ownership:OTHER                   0\n",
       "home_ownership:OWN                     0\n",
       "verification_status:Not Verified       0\n",
       "verification_status:Source Verified    0\n",
       "purpose:car                            0\n",
       "purpose:debt_consolidation             0\n",
       "purpose:educational                    0\n",
       "purpose:home_improvement               0\n",
       "purpose:house                          0\n",
       "purpose:major_purchase                 0\n",
       "purpose:medical                        0\n",
       "purpose:moving                         0\n",
       "purpose:other                          0\n",
       "purpose:renewable_energy               0\n",
       "purpose:small_business                 0\n",
       "purpose:vacation                       0\n",
       "purpose:wedding                        0\n",
       "initial_list_status:w                  0\n",
       "term_int                               0\n",
       "emp_length_int                         0\n",
       "mths_since_issue_d                     0\n",
       "mths_since_earliest_cr_line            0\n",
       "funded_amnt                            0\n",
       "int_rate                               0\n",
       "installment                            0\n",
       "annual_inc                             0\n",
       "dti                                    0\n",
       "delinq_2yrs                            0\n",
       "inq_last_6mths                         0\n",
       "mths_since_last_delinq                 0\n",
       "mths_since_last_record                 0\n",
       "open_acc                               0\n",
       "pub_rec                                0\n",
       "total_acc                              0\n",
       "acc_now_delinq                         0\n",
       "total_rev_hi_lim                       0\n",
       "dtype: int64"
      ]
     },
     "execution_count": 22,
     "metadata": {},
     "output_type": "execute_result"
    }
   ],
   "source": [
    "LGD_inputs_stage_1_train = LGD_inputs_stage_1_train[features_all] # in the train dataset, select only the columns in the feature all list \n",
    "LGD_inputs_stage_1_train.drop(features_reference_cat, axis=1, inplace=True) # drop the reference categories \n",
    "LGD_inputs_stage_1_train.isnull().sum()"
   ]
  },
  {
   "cell_type": "markdown",
   "metadata": {},
   "source": [
    "### Logistic Regression with multivariate p-values"
   ]
  },
  {
   "cell_type": "code",
   "execution_count": 23,
   "metadata": {},
   "outputs": [],
   "source": [
    "# similar to the PD model, create a custom function to regress linearly, with p-value\n",
    "from sklearn import linear_model\n",
    "import scipy.stats as stat\n",
    "\n",
    "class LogisticRegression_multivariate_pvalues:\n",
    "    def __init__(self, *args, **kwargs):\n",
    "        self.model = linear_model.LogisticRegression(*args, **kwargs)   #inherete everything from the regression class\n",
    "\n",
    "    # create new fit function, override fit() in the original class\n",
    "    def fit(self, X, y):\n",
    "        self.model.fit(X, y)\n",
    "        \n",
    "        #### Get p-values for the fitted model ####\n",
    "        denom = (2.0 * (1.0 + np.cosh(self.model.decision_function(X))))\n",
    "        denom = np.tile(denom,(X.shape[1],1)).T\n",
    "        F_ij = np.dot((X / denom).T,X) ## Fisher Information Matrix\n",
    "        Cramer_Rao = np.linalg.inv(F_ij) ## Inverse Information Matrix\n",
    "        sigma_estimates = np.sqrt(np.diagonal(Cramer_Rao))\n",
    "        z_scores = self.model.coef_[0] / sigma_estimates # z-score for eaach model coefficient\n",
    "        p_values = [stat.norm.sf(abs(x)) * 2 for x in z_scores] ### two tailed test for p-values\n",
    "        \n",
    "        self.coef_ = self.model.coef_\n",
    "        self.intercept_ = self.model.intercept_\n",
    "        self.p_values = p_values"
   ]
  },
  {
   "cell_type": "code",
   "execution_count": 24,
   "metadata": {},
   "outputs": [],
   "source": [
    "reg_LGD_stage1 = LogisticRegression_multivariate_pvalues(solver='lbfgs', max_iter=1000)\n",
    "reg_LGD_stage1.fit(LGD_inputs_stage_1_train, LGD_targets_stage_1_train)"
   ]
  },
  {
   "cell_type": "code",
   "execution_count": 25,
   "metadata": {},
   "outputs": [
    {
     "data": {
      "text/html": [
       "<div>\n",
       "<style scoped>\n",
       "    .dataframe tbody tr th:only-of-type {\n",
       "        vertical-align: middle;\n",
       "    }\n",
       "\n",
       "    .dataframe tbody tr th {\n",
       "        vertical-align: top;\n",
       "    }\n",
       "\n",
       "    .dataframe thead th {\n",
       "        text-align: right;\n",
       "    }\n",
       "</style>\n",
       "<table border=\"1\" class=\"dataframe\">\n",
       "  <thead>\n",
       "    <tr style=\"text-align: right;\">\n",
       "      <th></th>\n",
       "      <th>Feature name</th>\n",
       "      <th>Coefficients</th>\n",
       "      <th>p_values</th>\n",
       "    </tr>\n",
       "  </thead>\n",
       "  <tbody>\n",
       "    <tr>\n",
       "      <th>0</th>\n",
       "      <td>Intercept</td>\n",
       "      <td>-4.514037e-04</td>\n",
       "      <td>NaN</td>\n",
       "    </tr>\n",
       "    <tr>\n",
       "      <th>1</th>\n",
       "      <td>grade:A</td>\n",
       "      <td>-8.356441e-05</td>\n",
       "      <td>9.992214e-01</td>\n",
       "    </tr>\n",
       "    <tr>\n",
       "      <th>2</th>\n",
       "      <td>grade:B</td>\n",
       "      <td>-3.292075e-04</td>\n",
       "      <td>9.961983e-01</td>\n",
       "    </tr>\n",
       "    <tr>\n",
       "      <th>3</th>\n",
       "      <td>grade:C</td>\n",
       "      <td>-4.755977e-04</td>\n",
       "      <td>9.942997e-01</td>\n",
       "    </tr>\n",
       "    <tr>\n",
       "      <th>4</th>\n",
       "      <td>grade:D</td>\n",
       "      <td>6.253793e-05</td>\n",
       "      <td>9.992796e-01</td>\n",
       "    </tr>\n",
       "    <tr>\n",
       "      <th>5</th>\n",
       "      <td>grade:E</td>\n",
       "      <td>7.097406e-05</td>\n",
       "      <td>9.992585e-01</td>\n",
       "    </tr>\n",
       "    <tr>\n",
       "      <th>6</th>\n",
       "      <td>grade:F</td>\n",
       "      <td>2.580541e-04</td>\n",
       "      <td>9.976536e-01</td>\n",
       "    </tr>\n",
       "    <tr>\n",
       "      <th>7</th>\n",
       "      <td>home_ownership:MORTGAGE</td>\n",
       "      <td>-9.556181e-05</td>\n",
       "      <td>9.970201e-01</td>\n",
       "    </tr>\n",
       "    <tr>\n",
       "      <th>8</th>\n",
       "      <td>home_ownership:NONE</td>\n",
       "      <td>2.813559e-06</td>\n",
       "      <td>9.999972e-01</td>\n",
       "    </tr>\n",
       "    <tr>\n",
       "      <th>9</th>\n",
       "      <td>home_ownership:OTHER</td>\n",
       "      <td>-9.463333e-07</td>\n",
       "      <td>9.999982e-01</td>\n",
       "    </tr>\n",
       "    <tr>\n",
       "      <th>10</th>\n",
       "      <td>home_ownership:OWN</td>\n",
       "      <td>-2.186121e-05</td>\n",
       "      <td>9.995804e-01</td>\n",
       "    </tr>\n",
       "    <tr>\n",
       "      <th>11</th>\n",
       "      <td>verification_status:Not Verified</td>\n",
       "      <td>-4.057527e-04</td>\n",
       "      <td>9.893120e-01</td>\n",
       "    </tr>\n",
       "    <tr>\n",
       "      <th>12</th>\n",
       "      <td>verification_status:Source Verified</td>\n",
       "      <td>-5.343548e-04</td>\n",
       "      <td>9.844495e-01</td>\n",
       "    </tr>\n",
       "    <tr>\n",
       "      <th>13</th>\n",
       "      <td>purpose:car</td>\n",
       "      <td>2.936310e-05</td>\n",
       "      <td>9.998015e-01</td>\n",
       "    </tr>\n",
       "    <tr>\n",
       "      <th>14</th>\n",
       "      <td>purpose:debt_consolidation</td>\n",
       "      <td>-5.027345e-04</td>\n",
       "      <td>9.868462e-01</td>\n",
       "    </tr>\n",
       "    <tr>\n",
       "      <th>15</th>\n",
       "      <td>purpose:educational</td>\n",
       "      <td>-3.817505e-06</td>\n",
       "      <td>9.999904e-01</td>\n",
       "    </tr>\n",
       "    <tr>\n",
       "      <th>16</th>\n",
       "      <td>purpose:home_improvement</td>\n",
       "      <td>2.577580e-05</td>\n",
       "      <td>9.996435e-01</td>\n",
       "    </tr>\n",
       "    <tr>\n",
       "      <th>17</th>\n",
       "      <td>purpose:house</td>\n",
       "      <td>3.321166e-05</td>\n",
       "      <td>9.998173e-01</td>\n",
       "    </tr>\n",
       "    <tr>\n",
       "      <th>18</th>\n",
       "      <td>purpose:major_purchase</td>\n",
       "      <td>4.479910e-05</td>\n",
       "      <td>9.995916e-01</td>\n",
       "    </tr>\n",
       "    <tr>\n",
       "      <th>19</th>\n",
       "      <td>purpose:medical</td>\n",
       "      <td>1.234609e-06</td>\n",
       "      <td>9.999908e-01</td>\n",
       "    </tr>\n",
       "    <tr>\n",
       "      <th>20</th>\n",
       "      <td>purpose:moving</td>\n",
       "      <td>6.685149e-06</td>\n",
       "      <td>9.999560e-01</td>\n",
       "    </tr>\n",
       "    <tr>\n",
       "      <th>21</th>\n",
       "      <td>purpose:other</td>\n",
       "      <td>9.538370e-05</td>\n",
       "      <td>9.985712e-01</td>\n",
       "    </tr>\n",
       "    <tr>\n",
       "      <th>22</th>\n",
       "      <td>purpose:renewable_energy</td>\n",
       "      <td>9.526877e-06</td>\n",
       "      <td>9.999779e-01</td>\n",
       "    </tr>\n",
       "    <tr>\n",
       "      <th>23</th>\n",
       "      <td>purpose:small_business</td>\n",
       "      <td>1.323814e-04</td>\n",
       "      <td>9.985524e-01</td>\n",
       "    </tr>\n",
       "    <tr>\n",
       "      <th>24</th>\n",
       "      <td>purpose:vacation</td>\n",
       "      <td>1.084577e-05</td>\n",
       "      <td>9.999406e-01</td>\n",
       "    </tr>\n",
       "    <tr>\n",
       "      <th>25</th>\n",
       "      <td>purpose:wedding</td>\n",
       "      <td>2.709194e-05</td>\n",
       "      <td>9.998555e-01</td>\n",
       "    </tr>\n",
       "    <tr>\n",
       "      <th>26</th>\n",
       "      <td>initial_list_status:w</td>\n",
       "      <td>-2.400214e-03</td>\n",
       "      <td>9.292916e-01</td>\n",
       "    </tr>\n",
       "    <tr>\n",
       "      <th>27</th>\n",
       "      <td>term_int</td>\n",
       "      <td>-1.043789e-02</td>\n",
       "      <td>3.499862e-05</td>\n",
       "    </tr>\n",
       "    <tr>\n",
       "      <th>28</th>\n",
       "      <td>emp_length_int</td>\n",
       "      <td>-1.310370e-03</td>\n",
       "      <td>6.715359e-01</td>\n",
       "    </tr>\n",
       "    <tr>\n",
       "      <th>29</th>\n",
       "      <td>mths_since_issue_d</td>\n",
       "      <td>2.582222e-02</td>\n",
       "      <td>6.324311e-176</td>\n",
       "    </tr>\n",
       "    <tr>\n",
       "      <th>30</th>\n",
       "      <td>mths_since_earliest_cr_line</td>\n",
       "      <td>-1.299501e-03</td>\n",
       "      <td>8.053134e-19</td>\n",
       "    </tr>\n",
       "    <tr>\n",
       "      <th>31</th>\n",
       "      <td>funded_amnt</td>\n",
       "      <td>5.228124e-05</td>\n",
       "      <td>2.090455e-07</td>\n",
       "    </tr>\n",
       "    <tr>\n",
       "      <th>32</th>\n",
       "      <td>int_rate</td>\n",
       "      <td>3.759414e-04</td>\n",
       "      <td>9.489300e-01</td>\n",
       "    </tr>\n",
       "    <tr>\n",
       "      <th>33</th>\n",
       "      <td>installment</td>\n",
       "      <td>-1.113325e-03</td>\n",
       "      <td>3.752367e-04</td>\n",
       "    </tr>\n",
       "    <tr>\n",
       "      <th>34</th>\n",
       "      <td>annual_inc</td>\n",
       "      <td>4.428444e-07</td>\n",
       "      <td>2.080215e-01</td>\n",
       "    </tr>\n",
       "    <tr>\n",
       "      <th>35</th>\n",
       "      <td>dti</td>\n",
       "      <td>-1.518533e-02</td>\n",
       "      <td>2.545496e-20</td>\n",
       "    </tr>\n",
       "    <tr>\n",
       "      <th>36</th>\n",
       "      <td>delinq_2yrs</td>\n",
       "      <td>-4.405996e-05</td>\n",
       "      <td>9.976174e-01</td>\n",
       "    </tr>\n",
       "    <tr>\n",
       "      <th>37</th>\n",
       "      <td>inq_last_6mths</td>\n",
       "      <td>3.700704e-04</td>\n",
       "      <td>9.693460e-01</td>\n",
       "    </tr>\n",
       "    <tr>\n",
       "      <th>38</th>\n",
       "      <td>mths_since_last_delinq</td>\n",
       "      <td>6.843895e-04</td>\n",
       "      <td>1.820202e-01</td>\n",
       "    </tr>\n",
       "    <tr>\n",
       "      <th>39</th>\n",
       "      <td>mths_since_last_record</td>\n",
       "      <td>-3.780463e-03</td>\n",
       "      <td>1.322300e-09</td>\n",
       "    </tr>\n",
       "    <tr>\n",
       "      <th>40</th>\n",
       "      <td>open_acc</td>\n",
       "      <td>-5.662529e-03</td>\n",
       "      <td>8.622532e-02</td>\n",
       "    </tr>\n",
       "    <tr>\n",
       "      <th>41</th>\n",
       "      <td>pub_rec</td>\n",
       "      <td>-9.440646e-05</td>\n",
       "      <td>9.981065e-01</td>\n",
       "    </tr>\n",
       "    <tr>\n",
       "      <th>42</th>\n",
       "      <td>total_acc</td>\n",
       "      <td>-1.198391e-02</td>\n",
       "      <td>3.119664e-16</td>\n",
       "    </tr>\n",
       "    <tr>\n",
       "      <th>43</th>\n",
       "      <td>acc_now_delinq</td>\n",
       "      <td>1.467687e-05</td>\n",
       "      <td>9.999334e-01</td>\n",
       "    </tr>\n",
       "    <tr>\n",
       "      <th>44</th>\n",
       "      <td>total_rev_hi_lim</td>\n",
       "      <td>-1.275906e-06</td>\n",
       "      <td>5.279588e-02</td>\n",
       "    </tr>\n",
       "  </tbody>\n",
       "</table>\n",
       "</div>"
      ],
      "text/plain": [
       "                           Feature name  Coefficients       p_values\n",
       "0                             Intercept -4.514037e-04            NaN\n",
       "1                               grade:A -8.356441e-05   9.992214e-01\n",
       "2                               grade:B -3.292075e-04   9.961983e-01\n",
       "3                               grade:C -4.755977e-04   9.942997e-01\n",
       "4                               grade:D  6.253793e-05   9.992796e-01\n",
       "5                               grade:E  7.097406e-05   9.992585e-01\n",
       "6                               grade:F  2.580541e-04   9.976536e-01\n",
       "7               home_ownership:MORTGAGE -9.556181e-05   9.970201e-01\n",
       "8                   home_ownership:NONE  2.813559e-06   9.999972e-01\n",
       "9                  home_ownership:OTHER -9.463333e-07   9.999982e-01\n",
       "10                   home_ownership:OWN -2.186121e-05   9.995804e-01\n",
       "11     verification_status:Not Verified -4.057527e-04   9.893120e-01\n",
       "12  verification_status:Source Verified -5.343548e-04   9.844495e-01\n",
       "13                          purpose:car  2.936310e-05   9.998015e-01\n",
       "14           purpose:debt_consolidation -5.027345e-04   9.868462e-01\n",
       "15                  purpose:educational -3.817505e-06   9.999904e-01\n",
       "16             purpose:home_improvement  2.577580e-05   9.996435e-01\n",
       "17                        purpose:house  3.321166e-05   9.998173e-01\n",
       "18               purpose:major_purchase  4.479910e-05   9.995916e-01\n",
       "19                      purpose:medical  1.234609e-06   9.999908e-01\n",
       "20                       purpose:moving  6.685149e-06   9.999560e-01\n",
       "21                        purpose:other  9.538370e-05   9.985712e-01\n",
       "22             purpose:renewable_energy  9.526877e-06   9.999779e-01\n",
       "23               purpose:small_business  1.323814e-04   9.985524e-01\n",
       "24                     purpose:vacation  1.084577e-05   9.999406e-01\n",
       "25                      purpose:wedding  2.709194e-05   9.998555e-01\n",
       "26                initial_list_status:w -2.400214e-03   9.292916e-01\n",
       "27                             term_int -1.043789e-02   3.499862e-05\n",
       "28                       emp_length_int -1.310370e-03   6.715359e-01\n",
       "29                   mths_since_issue_d  2.582222e-02  6.324311e-176\n",
       "30          mths_since_earliest_cr_line -1.299501e-03   8.053134e-19\n",
       "31                          funded_amnt  5.228124e-05   2.090455e-07\n",
       "32                             int_rate  3.759414e-04   9.489300e-01\n",
       "33                          installment -1.113325e-03   3.752367e-04\n",
       "34                           annual_inc  4.428444e-07   2.080215e-01\n",
       "35                                  dti -1.518533e-02   2.545496e-20\n",
       "36                          delinq_2yrs -4.405996e-05   9.976174e-01\n",
       "37                       inq_last_6mths  3.700704e-04   9.693460e-01\n",
       "38               mths_since_last_delinq  6.843895e-04   1.820202e-01\n",
       "39               mths_since_last_record -3.780463e-03   1.322300e-09\n",
       "40                             open_acc -5.662529e-03   8.622532e-02\n",
       "41                              pub_rec -9.440646e-05   9.981065e-01\n",
       "42                            total_acc -1.198391e-02   3.119664e-16\n",
       "43                       acc_now_delinq  1.467687e-05   9.999334e-01\n",
       "44                     total_rev_hi_lim -1.275906e-06   5.279588e-02"
      ]
     },
     "execution_count": 25,
     "metadata": {},
     "output_type": "execute_result"
    }
   ],
   "source": [
    "feature_name = LGD_inputs_stage_1_train.columns.values\n",
    "summary_table = pd.DataFrame(columns=['Feature name'], data=feature_name)\n",
    "summary_table['Coefficients'] = np.transpose(reg_LGD_stage1.coef_)\n",
    "summary_table.index = summary_table.index + 1   #add 1 to the index of the summary table\n",
    "summary_table.loc[0] = ['Intercept', reg_LGD_stage1.intercept_[0]] #set intercept value as location 0 of the summary table df. The newly added row, index 0, would be at the bottom of the df\n",
    "summary_table = summary_table.sort_index()      #sort the index from smallest to largest. Then assigned it back as the summary table\n",
    "p_values = np.append(\n",
    "    np.nan, \n",
    "    np.array(reg_LGD_stage1.p_values)\n",
    ")\n",
    "summary_table['p_values'] = p_values\n",
    "summary_table\n",
    "#NOTE: most are not statistically significant. \n",
    "#NOTE: for continuous variable. Coefficients = change in log(odds) that result from a unit change of continuous variable."
   ]
  },
  {
   "cell_type": "markdown",
   "metadata": {},
   "source": [
    "### validate model accuracy"
   ]
  },
  {
   "cell_type": "markdown",
   "metadata": {},
   "source": [
    "#### predict test dataset (input)"
   ]
  },
  {
   "cell_type": "code",
   "execution_count": 27,
   "metadata": {},
   "outputs": [
    {
     "data": {
      "text/html": [
       "<div>\n",
       "<style scoped>\n",
       "    .dataframe tbody tr th:only-of-type {\n",
       "        vertical-align: middle;\n",
       "    }\n",
       "\n",
       "    .dataframe tbody tr th {\n",
       "        vertical-align: top;\n",
       "    }\n",
       "\n",
       "    .dataframe thead th {\n",
       "        text-align: right;\n",
       "    }\n",
       "</style>\n",
       "<table border=\"1\" class=\"dataframe\">\n",
       "  <thead>\n",
       "    <tr style=\"text-align: right;\">\n",
       "      <th></th>\n",
       "      <th>grade:A</th>\n",
       "      <th>grade:B</th>\n",
       "      <th>grade:C</th>\n",
       "      <th>grade:D</th>\n",
       "      <th>grade:E</th>\n",
       "      <th>grade:F</th>\n",
       "      <th>home_ownership:MORTGAGE</th>\n",
       "      <th>home_ownership:NONE</th>\n",
       "      <th>home_ownership:OTHER</th>\n",
       "      <th>home_ownership:OWN</th>\n",
       "      <th>...</th>\n",
       "      <th>dti</th>\n",
       "      <th>delinq_2yrs</th>\n",
       "      <th>inq_last_6mths</th>\n",
       "      <th>mths_since_last_delinq</th>\n",
       "      <th>mths_since_last_record</th>\n",
       "      <th>open_acc</th>\n",
       "      <th>pub_rec</th>\n",
       "      <th>total_acc</th>\n",
       "      <th>acc_now_delinq</th>\n",
       "      <th>total_rev_hi_lim</th>\n",
       "    </tr>\n",
       "  </thead>\n",
       "  <tbody>\n",
       "    <tr>\n",
       "      <th>178928</th>\n",
       "      <td>0</td>\n",
       "      <td>0</td>\n",
       "      <td>0</td>\n",
       "      <td>1</td>\n",
       "      <td>0</td>\n",
       "      <td>0</td>\n",
       "      <td>1</td>\n",
       "      <td>0</td>\n",
       "      <td>0</td>\n",
       "      <td>0</td>\n",
       "      <td>...</td>\n",
       "      <td>21.69</td>\n",
       "      <td>0.0</td>\n",
       "      <td>3.0</td>\n",
       "      <td>54.0</td>\n",
       "      <td>0.0</td>\n",
       "      <td>10.0</td>\n",
       "      <td>0.0</td>\n",
       "      <td>25.0</td>\n",
       "      <td>0.0</td>\n",
       "      <td>8400.0</td>\n",
       "    </tr>\n",
       "    <tr>\n",
       "      <th>69814</th>\n",
       "      <td>1</td>\n",
       "      <td>0</td>\n",
       "      <td>0</td>\n",
       "      <td>0</td>\n",
       "      <td>0</td>\n",
       "      <td>0</td>\n",
       "      <td>0</td>\n",
       "      <td>0</td>\n",
       "      <td>0</td>\n",
       "      <td>0</td>\n",
       "      <td>...</td>\n",
       "      <td>7.75</td>\n",
       "      <td>0.0</td>\n",
       "      <td>0.0</td>\n",
       "      <td>0.0</td>\n",
       "      <td>0.0</td>\n",
       "      <td>5.0</td>\n",
       "      <td>0.0</td>\n",
       "      <td>9.0</td>\n",
       "      <td>0.0</td>\n",
       "      <td>5600.0</td>\n",
       "    </tr>\n",
       "    <tr>\n",
       "      <th>101396</th>\n",
       "      <td>0</td>\n",
       "      <td>0</td>\n",
       "      <td>0</td>\n",
       "      <td>0</td>\n",
       "      <td>0</td>\n",
       "      <td>1</td>\n",
       "      <td>0</td>\n",
       "      <td>0</td>\n",
       "      <td>0</td>\n",
       "      <td>0</td>\n",
       "      <td>...</td>\n",
       "      <td>21.99</td>\n",
       "      <td>1.0</td>\n",
       "      <td>0.0</td>\n",
       "      <td>12.0</td>\n",
       "      <td>97.0</td>\n",
       "      <td>9.0</td>\n",
       "      <td>1.0</td>\n",
       "      <td>16.0</td>\n",
       "      <td>0.0</td>\n",
       "      <td>21900.0</td>\n",
       "    </tr>\n",
       "    <tr>\n",
       "      <th>463268</th>\n",
       "      <td>1</td>\n",
       "      <td>0</td>\n",
       "      <td>0</td>\n",
       "      <td>0</td>\n",
       "      <td>0</td>\n",
       "      <td>0</td>\n",
       "      <td>0</td>\n",
       "      <td>0</td>\n",
       "      <td>0</td>\n",
       "      <td>0</td>\n",
       "      <td>...</td>\n",
       "      <td>12.45</td>\n",
       "      <td>0.0</td>\n",
       "      <td>0.0</td>\n",
       "      <td>0.0</td>\n",
       "      <td>0.0</td>\n",
       "      <td>12.0</td>\n",
       "      <td>0.0</td>\n",
       "      <td>27.0</td>\n",
       "      <td>0.0</td>\n",
       "      <td>20100.0</td>\n",
       "    </tr>\n",
       "    <tr>\n",
       "      <th>253729</th>\n",
       "      <td>0</td>\n",
       "      <td>0</td>\n",
       "      <td>0</td>\n",
       "      <td>1</td>\n",
       "      <td>0</td>\n",
       "      <td>0</td>\n",
       "      <td>0</td>\n",
       "      <td>0</td>\n",
       "      <td>0</td>\n",
       "      <td>1</td>\n",
       "      <td>...</td>\n",
       "      <td>19.51</td>\n",
       "      <td>0.0</td>\n",
       "      <td>2.0</td>\n",
       "      <td>36.0</td>\n",
       "      <td>0.0</td>\n",
       "      <td>20.0</td>\n",
       "      <td>0.0</td>\n",
       "      <td>32.0</td>\n",
       "      <td>0.0</td>\n",
       "      <td>80400.0</td>\n",
       "    </tr>\n",
       "    <tr>\n",
       "      <th>...</th>\n",
       "      <td>...</td>\n",
       "      <td>...</td>\n",
       "      <td>...</td>\n",
       "      <td>...</td>\n",
       "      <td>...</td>\n",
       "      <td>...</td>\n",
       "      <td>...</td>\n",
       "      <td>...</td>\n",
       "      <td>...</td>\n",
       "      <td>...</td>\n",
       "      <td>...</td>\n",
       "      <td>...</td>\n",
       "      <td>...</td>\n",
       "      <td>...</td>\n",
       "      <td>...</td>\n",
       "      <td>...</td>\n",
       "      <td>...</td>\n",
       "      <td>...</td>\n",
       "      <td>...</td>\n",
       "      <td>...</td>\n",
       "      <td>...</td>\n",
       "    </tr>\n",
       "    <tr>\n",
       "      <th>125763</th>\n",
       "      <td>0</td>\n",
       "      <td>1</td>\n",
       "      <td>0</td>\n",
       "      <td>0</td>\n",
       "      <td>0</td>\n",
       "      <td>0</td>\n",
       "      <td>1</td>\n",
       "      <td>0</td>\n",
       "      <td>0</td>\n",
       "      <td>0</td>\n",
       "      <td>...</td>\n",
       "      <td>15.97</td>\n",
       "      <td>1.0</td>\n",
       "      <td>1.0</td>\n",
       "      <td>15.0</td>\n",
       "      <td>0.0</td>\n",
       "      <td>10.0</td>\n",
       "      <td>0.0</td>\n",
       "      <td>21.0</td>\n",
       "      <td>0.0</td>\n",
       "      <td>12000.0</td>\n",
       "    </tr>\n",
       "    <tr>\n",
       "      <th>224662</th>\n",
       "      <td>1</td>\n",
       "      <td>0</td>\n",
       "      <td>0</td>\n",
       "      <td>0</td>\n",
       "      <td>0</td>\n",
       "      <td>0</td>\n",
       "      <td>0</td>\n",
       "      <td>0</td>\n",
       "      <td>0</td>\n",
       "      <td>0</td>\n",
       "      <td>...</td>\n",
       "      <td>17.78</td>\n",
       "      <td>0.0</td>\n",
       "      <td>0.0</td>\n",
       "      <td>0.0</td>\n",
       "      <td>0.0</td>\n",
       "      <td>5.0</td>\n",
       "      <td>0.0</td>\n",
       "      <td>15.0</td>\n",
       "      <td>0.0</td>\n",
       "      <td>12800.0</td>\n",
       "    </tr>\n",
       "    <tr>\n",
       "      <th>139775</th>\n",
       "      <td>0</td>\n",
       "      <td>0</td>\n",
       "      <td>1</td>\n",
       "      <td>0</td>\n",
       "      <td>0</td>\n",
       "      <td>0</td>\n",
       "      <td>0</td>\n",
       "      <td>0</td>\n",
       "      <td>0</td>\n",
       "      <td>1</td>\n",
       "      <td>...</td>\n",
       "      <td>17.76</td>\n",
       "      <td>0.0</td>\n",
       "      <td>1.0</td>\n",
       "      <td>0.0</td>\n",
       "      <td>111.0</td>\n",
       "      <td>6.0</td>\n",
       "      <td>1.0</td>\n",
       "      <td>10.0</td>\n",
       "      <td>0.0</td>\n",
       "      <td>19200.0</td>\n",
       "    </tr>\n",
       "    <tr>\n",
       "      <th>191791</th>\n",
       "      <td>0</td>\n",
       "      <td>0</td>\n",
       "      <td>0</td>\n",
       "      <td>0</td>\n",
       "      <td>1</td>\n",
       "      <td>0</td>\n",
       "      <td>1</td>\n",
       "      <td>0</td>\n",
       "      <td>0</td>\n",
       "      <td>0</td>\n",
       "      <td>...</td>\n",
       "      <td>20.77</td>\n",
       "      <td>0.0</td>\n",
       "      <td>0.0</td>\n",
       "      <td>0.0</td>\n",
       "      <td>0.0</td>\n",
       "      <td>12.0</td>\n",
       "      <td>0.0</td>\n",
       "      <td>29.0</td>\n",
       "      <td>0.0</td>\n",
       "      <td>43000.0</td>\n",
       "    </tr>\n",
       "    <tr>\n",
       "      <th>350456</th>\n",
       "      <td>0</td>\n",
       "      <td>0</td>\n",
       "      <td>0</td>\n",
       "      <td>1</td>\n",
       "      <td>0</td>\n",
       "      <td>0</td>\n",
       "      <td>1</td>\n",
       "      <td>0</td>\n",
       "      <td>0</td>\n",
       "      <td>0</td>\n",
       "      <td>...</td>\n",
       "      <td>19.62</td>\n",
       "      <td>1.0</td>\n",
       "      <td>1.0</td>\n",
       "      <td>6.0</td>\n",
       "      <td>0.0</td>\n",
       "      <td>12.0</td>\n",
       "      <td>0.0</td>\n",
       "      <td>27.0</td>\n",
       "      <td>0.0</td>\n",
       "      <td>14900.0</td>\n",
       "    </tr>\n",
       "  </tbody>\n",
       "</table>\n",
       "<p>8648 rows × 44 columns</p>\n",
       "</div>"
      ],
      "text/plain": [
       "        grade:A  grade:B  grade:C  grade:D  grade:E  grade:F  \\\n",
       "178928        0        0        0        1        0        0   \n",
       "69814         1        0        0        0        0        0   \n",
       "101396        0        0        0        0        0        1   \n",
       "463268        1        0        0        0        0        0   \n",
       "253729        0        0        0        1        0        0   \n",
       "...         ...      ...      ...      ...      ...      ...   \n",
       "125763        0        1        0        0        0        0   \n",
       "224662        1        0        0        0        0        0   \n",
       "139775        0        0        1        0        0        0   \n",
       "191791        0        0        0        0        1        0   \n",
       "350456        0        0        0        1        0        0   \n",
       "\n",
       "        home_ownership:MORTGAGE  home_ownership:NONE  home_ownership:OTHER  \\\n",
       "178928                        1                    0                     0   \n",
       "69814                         0                    0                     0   \n",
       "101396                        0                    0                     0   \n",
       "463268                        0                    0                     0   \n",
       "253729                        0                    0                     0   \n",
       "...                         ...                  ...                   ...   \n",
       "125763                        1                    0                     0   \n",
       "224662                        0                    0                     0   \n",
       "139775                        0                    0                     0   \n",
       "191791                        1                    0                     0   \n",
       "350456                        1                    0                     0   \n",
       "\n",
       "        home_ownership:OWN  ...    dti  delinq_2yrs  inq_last_6mths  \\\n",
       "178928                   0  ...  21.69          0.0             3.0   \n",
       "69814                    0  ...   7.75          0.0             0.0   \n",
       "101396                   0  ...  21.99          1.0             0.0   \n",
       "463268                   0  ...  12.45          0.0             0.0   \n",
       "253729                   1  ...  19.51          0.0             2.0   \n",
       "...                    ...  ...    ...          ...             ...   \n",
       "125763                   0  ...  15.97          1.0             1.0   \n",
       "224662                   0  ...  17.78          0.0             0.0   \n",
       "139775                   1  ...  17.76          0.0             1.0   \n",
       "191791                   0  ...  20.77          0.0             0.0   \n",
       "350456                   0  ...  19.62          1.0             1.0   \n",
       "\n",
       "        mths_since_last_delinq  mths_since_last_record  open_acc  pub_rec  \\\n",
       "178928                    54.0                     0.0      10.0      0.0   \n",
       "69814                      0.0                     0.0       5.0      0.0   \n",
       "101396                    12.0                    97.0       9.0      1.0   \n",
       "463268                     0.0                     0.0      12.0      0.0   \n",
       "253729                    36.0                     0.0      20.0      0.0   \n",
       "...                        ...                     ...       ...      ...   \n",
       "125763                    15.0                     0.0      10.0      0.0   \n",
       "224662                     0.0                     0.0       5.0      0.0   \n",
       "139775                     0.0                   111.0       6.0      1.0   \n",
       "191791                     0.0                     0.0      12.0      0.0   \n",
       "350456                     6.0                     0.0      12.0      0.0   \n",
       "\n",
       "        total_acc  acc_now_delinq  total_rev_hi_lim  \n",
       "178928       25.0             0.0            8400.0  \n",
       "69814         9.0             0.0            5600.0  \n",
       "101396       16.0             0.0           21900.0  \n",
       "463268       27.0             0.0           20100.0  \n",
       "253729       32.0             0.0           80400.0  \n",
       "...           ...             ...               ...  \n",
       "125763       21.0             0.0           12000.0  \n",
       "224662       15.0             0.0           12800.0  \n",
       "139775       10.0             0.0           19200.0  \n",
       "191791       29.0             0.0           43000.0  \n",
       "350456       27.0             0.0           14900.0  \n",
       "\n",
       "[8648 rows x 44 columns]"
      ]
     },
     "execution_count": 27,
     "metadata": {},
     "output_type": "execute_result"
    }
   ],
   "source": [
    "# use the test data, but only take the features that we used to train on\n",
    "LGD_inputs_stage_1_test = LGD_inputs_stage_1_test[features_all]\n",
    "LGD_inputs_stage_1_test.drop(features_reference_cat, axis=1, inplace=True) # drop the reference categories \n",
    "LGD_inputs_stage_1_test"
   ]
  },
  {
   "cell_type": "code",
   "execution_count": 32,
   "metadata": {},
   "outputs": [
    {
     "data": {
      "text/plain": [
       "array([1, 1, 0, ..., 1, 1, 0])"
      ]
     },
     "execution_count": 32,
     "metadata": {},
     "output_type": "execute_result"
    }
   ],
   "source": [
    "# predict data using the multivariate Logistic Regression instance above --> store result in y_hat = estimated recovery rate as either zero (=0) or not zero (=1)\n",
    "y_hat_test_LGD_stage1 = reg_LGD_stage1.model.predict(LGD_inputs_stage_1_test)\n",
    "y_hat_test_LGD_stage1"
   ]
  },
  {
   "cell_type": "code",
   "execution_count": 33,
   "metadata": {},
   "outputs": [
    {
     "data": {
      "text/plain": [
       "array([[0.412891  , 0.587109  ],\n",
       "       [0.3736221 , 0.6263779 ],\n",
       "       [0.59626604, 0.40373396],\n",
       "       ...,\n",
       "       [0.49715028, 0.50284972],\n",
       "       [0.41892862, 0.58107138],\n",
       "       [0.55423277, 0.44576723]])"
      ]
     },
     "execution_count": 33,
     "metadata": {},
     "output_type": "execute_result"
    }
   ],
   "source": [
    "# use the method predict probability to get exact recovery rate\n",
    "y_hat_test_proba_LGD_stage1 = reg_LGD_stage1.model.predict_proba(LGD_inputs_stage_1_test)\n",
    "y_hat_test_proba_LGD_stage1\n",
    "#NOTE: see PD model >>> out of sample validation, the predict_proba returns 2 values for each row: first is the probability of getting 0, second is the probability of getting 1. In this case we only interested in probability of getting 1, i.e., probability of getting more than 0% recovery rate"
   ]
  },
  {
   "cell_type": "code",
   "execution_count": 34,
   "metadata": {},
   "outputs": [
    {
     "data": {
      "text/plain": [
       "array([0.587109  , 0.6263779 , 0.40373396, ..., 0.50284972, 0.58107138,\n",
       "       0.44576723])"
      ]
     },
     "execution_count": 34,
     "metadata": {},
     "output_type": "execute_result"
    }
   ],
   "source": [
    "# probability of getting more than 0% recovery rate --> use this to compare this estimated recovery rate against actual recovery rate\n",
    "y_hat_test_proba_LGD_stage1 = y_hat_test_proba_LGD_stage1[:][:, 1]\n",
    "y_hat_test_proba_LGD_stage1"
   ]
  },
  {
   "cell_type": "markdown",
   "metadata": {},
   "source": [
    "#### compare with test dataset (target)"
   ]
  },
  {
   "cell_type": "code",
   "execution_count": 40,
   "metadata": {},
   "outputs": [
    {
     "data": {
      "text/html": [
       "<div>\n",
       "<style scoped>\n",
       "    .dataframe tbody tr th:only-of-type {\n",
       "        vertical-align: middle;\n",
       "    }\n",
       "\n",
       "    .dataframe tbody tr th {\n",
       "        vertical-align: top;\n",
       "    }\n",
       "\n",
       "    .dataframe thead th {\n",
       "        text-align: right;\n",
       "    }\n",
       "</style>\n",
       "<table border=\"1\" class=\"dataframe\">\n",
       "  <thead>\n",
       "    <tr style=\"text-align: right;\">\n",
       "      <th></th>\n",
       "      <th>LGD_targets_stage_1_test</th>\n",
       "      <th>y_hat_test_proba_LGD_stage1</th>\n",
       "    </tr>\n",
       "  </thead>\n",
       "  <tbody>\n",
       "    <tr>\n",
       "      <th>178928</th>\n",
       "      <td>1</td>\n",
       "      <td>0.587109</td>\n",
       "    </tr>\n",
       "    <tr>\n",
       "      <th>69814</th>\n",
       "      <td>1</td>\n",
       "      <td>0.626378</td>\n",
       "    </tr>\n",
       "    <tr>\n",
       "      <th>101396</th>\n",
       "      <td>0</td>\n",
       "      <td>0.403734</td>\n",
       "    </tr>\n",
       "    <tr>\n",
       "      <th>463268</th>\n",
       "      <td>1</td>\n",
       "      <td>0.551364</td>\n",
       "    </tr>\n",
       "    <tr>\n",
       "      <th>253729</th>\n",
       "      <td>0</td>\n",
       "      <td>0.425850</td>\n",
       "    </tr>\n",
       "    <tr>\n",
       "      <th>...</th>\n",
       "      <td>...</td>\n",
       "      <td>...</td>\n",
       "    </tr>\n",
       "    <tr>\n",
       "      <th>125763</th>\n",
       "      <td>1</td>\n",
       "      <td>0.567909</td>\n",
       "    </tr>\n",
       "    <tr>\n",
       "      <th>224662</th>\n",
       "      <td>0</td>\n",
       "      <td>0.673034</td>\n",
       "    </tr>\n",
       "    <tr>\n",
       "      <th>139775</th>\n",
       "      <td>1</td>\n",
       "      <td>0.502850</td>\n",
       "    </tr>\n",
       "    <tr>\n",
       "      <th>191791</th>\n",
       "      <td>1</td>\n",
       "      <td>0.581071</td>\n",
       "    </tr>\n",
       "    <tr>\n",
       "      <th>350456</th>\n",
       "      <td>0</td>\n",
       "      <td>0.445767</td>\n",
       "    </tr>\n",
       "  </tbody>\n",
       "</table>\n",
       "<p>8648 rows × 2 columns</p>\n",
       "</div>"
      ],
      "text/plain": [
       "        LGD_targets_stage_1_test  y_hat_test_proba_LGD_stage1\n",
       "178928                         1                     0.587109\n",
       "69814                          1                     0.626378\n",
       "101396                         0                     0.403734\n",
       "463268                         1                     0.551364\n",
       "253729                         0                     0.425850\n",
       "...                          ...                          ...\n",
       "125763                         1                     0.567909\n",
       "224662                         0                     0.673034\n",
       "139775                         1                     0.502850\n",
       "191791                         1                     0.581071\n",
       "350456                         0                     0.445767\n",
       "\n",
       "[8648 rows x 2 columns]"
      ]
     },
     "execution_count": 40,
     "metadata": {},
     "output_type": "execute_result"
    }
   ],
   "source": [
    "LGD_targets_stage_1_test_copy = LGD_targets_stage_1_test    # take a copy of target test dataset\n",
    "LGD_targets_stage_1_test_copy.reset_index(drop=True, inplace=True)      # reset index\n",
    "df_actual_predicted_proba = pd.concat([LGD_targets_stage_1_test_copy, pd.DataFrame(y_hat_test_proba_LGD_stage1)], axis=1)     # combine this df with the predicted probab df above\n",
    "df_actual_predicted_proba.columns = ['LGD_targets_stage_1_test','y_hat_test_proba_LGD_stage1']\n",
    "df_actual_predicted_proba.index = LGD_inputs_stage_1_test.index   # set index to similar to the input test dataset\n",
    "df_actual_predicted_proba"
   ]
  },
  {
   "cell_type": "markdown",
   "metadata": {},
   "source": [
    "#### use Confusion Matrix"
   ]
  },
  {
   "cell_type": "code",
   "execution_count": 41,
   "metadata": {},
   "outputs": [],
   "source": [
    "tr = 0.5    # set threshold value\n",
    "df_actual_predicted_proba['y_hat_test_LGD_stage1'] = np.where(df_actual_predicted_proba['y_hat_test_proba_LGD_stage1'] > tr,1,0)"
   ]
  },
  {
   "cell_type": "code",
   "execution_count": 43,
   "metadata": {},
   "outputs": [
    {
     "data": {
      "text/html": [
       "<div>\n",
       "<style scoped>\n",
       "    .dataframe tbody tr th:only-of-type {\n",
       "        vertical-align: middle;\n",
       "    }\n",
       "\n",
       "    .dataframe tbody tr th {\n",
       "        vertical-align: top;\n",
       "    }\n",
       "\n",
       "    .dataframe thead th {\n",
       "        text-align: right;\n",
       "    }\n",
       "</style>\n",
       "<table border=\"1\" class=\"dataframe\">\n",
       "  <thead>\n",
       "    <tr style=\"text-align: right;\">\n",
       "      <th>Predicted</th>\n",
       "      <th>0</th>\n",
       "      <th>1</th>\n",
       "    </tr>\n",
       "    <tr>\n",
       "      <th>Actual</th>\n",
       "      <th></th>\n",
       "      <th></th>\n",
       "    </tr>\n",
       "  </thead>\n",
       "  <tbody>\n",
       "    <tr>\n",
       "      <th>0</th>\n",
       "      <td>1536</td>\n",
       "      <td>2226</td>\n",
       "    </tr>\n",
       "    <tr>\n",
       "      <th>1</th>\n",
       "      <td>1060</td>\n",
       "      <td>3826</td>\n",
       "    </tr>\n",
       "  </tbody>\n",
       "</table>\n",
       "</div>"
      ],
      "text/plain": [
       "Predicted     0     1\n",
       "Actual               \n",
       "0          1536  2226\n",
       "1          1060  3826"
      ]
     },
     "execution_count": 43,
     "metadata": {},
     "output_type": "execute_result"
    }
   ],
   "source": [
    "pd.crosstab(\n",
    "    df_actual_predicted_proba['LGD_targets_stage_1_test'], \n",
    "    df_actual_predicted_proba['y_hat_test_LGD_stage1'],\n",
    "    rownames= ['Actual'],\n",
    "    colnames= ['Predicted']\n",
    ")   # confusion matrix: actual value as rows, predicted value as columns"
   ]
  },
  {
   "cell_type": "code",
   "execution_count": 45,
   "metadata": {},
   "outputs": [
    {
     "data": {
      "text/html": [
       "<div>\n",
       "<style scoped>\n",
       "    .dataframe tbody tr th:only-of-type {\n",
       "        vertical-align: middle;\n",
       "    }\n",
       "\n",
       "    .dataframe tbody tr th {\n",
       "        vertical-align: top;\n",
       "    }\n",
       "\n",
       "    .dataframe thead th {\n",
       "        text-align: right;\n",
       "    }\n",
       "</style>\n",
       "<table border=\"1\" class=\"dataframe\">\n",
       "  <thead>\n",
       "    <tr style=\"text-align: right;\">\n",
       "      <th>Predicted</th>\n",
       "      <th>0</th>\n",
       "      <th>1</th>\n",
       "    </tr>\n",
       "    <tr>\n",
       "      <th>Actual</th>\n",
       "      <th></th>\n",
       "      <th></th>\n",
       "    </tr>\n",
       "  </thead>\n",
       "  <tbody>\n",
       "    <tr>\n",
       "      <th>0</th>\n",
       "      <td>0.177613</td>\n",
       "      <td>0.257401</td>\n",
       "    </tr>\n",
       "    <tr>\n",
       "      <th>1</th>\n",
       "      <td>0.122572</td>\n",
       "      <td>0.442414</td>\n",
       "    </tr>\n",
       "  </tbody>\n",
       "</table>\n",
       "</div>"
      ],
      "text/plain": [
       "Predicted         0         1\n",
       "Actual                       \n",
       "0          0.177613  0.257401\n",
       "1          0.122572  0.442414"
      ]
     },
     "execution_count": 45,
     "metadata": {},
     "output_type": "execute_result"
    }
   ],
   "source": [
    "crosstab_prcnt = pd.crosstab(\n",
    "    df_actual_predicted_proba['LGD_targets_stage_1_test'], \n",
    "    df_actual_predicted_proba['y_hat_test_LGD_stage1'],\n",
    "    rownames= ['Actual'],\n",
    "    colnames= ['Predicted']\n",
    ")   / df_actual_predicted_proba.shape[0]\n",
    "crosstab_prcnt"
   ]
  },
  {
   "cell_type": "code",
   "execution_count": 46,
   "metadata": {},
   "outputs": [
    {
     "data": {
      "text/plain": [
       "0.6200277520814061"
      ]
     },
     "execution_count": 46,
     "metadata": {},
     "output_type": "execute_result"
    }
   ],
   "source": [
    "crosstab_prcnt.iloc[0,0] + crosstab_prcnt.iloc[1,1]  # overall accuracy of the model"
   ]
  },
  {
   "cell_type": "markdown",
   "metadata": {},
   "source": [
    "#### use ROC curve"
   ]
  },
  {
   "cell_type": "code",
   "execution_count": 47,
   "metadata": {},
   "outputs": [],
   "source": [
    "from sklearn.metrics import roc_curve, roc_auc_score\n",
    "\n",
    "fpr, tpr, threshold = roc_curve(\n",
    "    df_actual_predicted_proba['LGD_targets_stage_1_test'],\n",
    "    df_actual_predicted_proba['y_hat_test_LGD_stage1']\n",
    ")       #roc_curve() output 3 arrays: false positive rate, true positive rate, threshold --> we assign them to 3 variables"
   ]
  },
  {
   "cell_type": "code",
   "execution_count": 48,
   "metadata": {},
   "outputs": [
    {
     "data": {
      "text/plain": [
       "Text(0.5, 1.0, 'ROC curve')"
      ]
     },
     "execution_count": 48,
     "metadata": {},
     "output_type": "execute_result"
    },
    {
     "data": {
      "image/png": "[encoded data removed]",
      "text/plain": [
       "<Figure size 432x288 with 1 Axes>"
      ]
     },
     "metadata": {},
     "output_type": "display_data"
    }
   ],
   "source": [
    "plt.plot(fpr, tpr)   # plotting the ROC curve: false positive rate along the x-axis and the true positive rate along the y-axis,\n",
    "plt.plot(fpr, fpr, linestyle = '--', color = 'k')   # seconary diagonal line, with dashed line style and black color.\n",
    "plt.xlabel('False positive rate')   # name the x-axis \"False positive rate\".\n",
    "plt.ylabel('True positive rate')    # name the x-axis \"True positive rate\".\n",
    "plt.title('ROC curve')  # name the graph \"ROC curve\"."
   ]
  },
  {
   "cell_type": "code",
   "execution_count": 50,
   "metadata": {},
   "outputs": [
    {
     "data": {
      "text/plain": [
       "0.5956735417601049"
      ]
     },
     "execution_count": 50,
     "metadata": {},
     "output_type": "execute_result"
    }
   ],
   "source": [
    "AUROC = roc_auc_score(\n",
    "    df_actual_predicted_proba['LGD_targets_stage_1_test'],\n",
    "    df_actual_predicted_proba['y_hat_test_LGD_stage1']\n",
    ")   \n",
    "AUROC   #compute AUC of our model\n",
    "#NOTE: 60% --> good but not great\n",
    "#NOTE: although, it is important to have values larger than 0 being classified correctly, than to have correctly classified 0. Because in the 2nd stage model, some values that were currently classifed as more than 0, may still be estimated as being 0 --> thus correcting the current misclassification. "
   ]
  },
  {
   "cell_type": "markdown",
   "metadata": {},
   "source": [
    "### save Stage 1 model"
   ]
  },
  {
   "cell_type": "code",
   "execution_count": 51,
   "metadata": {},
   "outputs": [],
   "source": [
    "# saving a model = create a file that contain all information regarding the machine learning: \n",
    "# - Model = logistic regression. \n",
    "# - Coefficients & intercept\n",
    "# - Random state \n",
    "# - Test size = 20%...\n",
    "\n",
    "# since reg_LGD_stage1 is an instance of the multivariate Logistic Regression, it computes and contains the coefficients, intercept, p-values, ... --> saving the model is equivalent to save this reg_LGD_stage1 object"
   ]
  },
  {
   "cell_type": "code",
   "execution_count": 53,
   "metadata": {},
   "outputs": [],
   "source": [
    "# python module pickle converts python objects in character stream (string) --> this stream contains sufficient information --> later on we can use this character stream to unpickle into a python object\n",
    "# Benefit: the pickle file is tiny\n",
    "import pickle\n",
    "pickle.dump(reg_LGD_stage1, open('lgd_model_stage_1.sav', 'wb'))"
   ]
  },
  {
   "cell_type": "markdown",
   "metadata": {},
   "source": [
    "## Stage 2: Linear Regression"
   ]
  },
  {
   "cell_type": "code",
   "execution_count": 54,
   "metadata": {},
   "outputs": [],
   "source": [
    "# using multiple linear regression model to estimate recovery rates for accounts where their actual recovery rate is higher than 0"
   ]
  },
  {
   "cell_type": "code",
   "execution_count": 75,
   "metadata": {},
   "outputs": [],
   "source": [
    "LGD_stage2_data = loan_data_defaults[loan_data_defaults['recovery_rate_0_boolean'] == 1]"
   ]
  },
  {
   "cell_type": "markdown",
   "metadata": {},
   "source": [
    "### split train & test dataset"
   ]
  },
  {
   "cell_type": "code",
   "execution_count": 84,
   "metadata": {},
   "outputs": [],
   "source": [
    "LGD_inputs_stage_2_train, LGD_inputs_stage_2_test, LGD_targets_stage_2_train, LGD_targets_stage_2_test = train_test_split(\n",
    "    LGD_stage2_data.drop(['good_bad','recovery_rate','recovery_rate_0_boolean','CCF'], axis=1), \n",
    "    LGD_stage2_data['recovery_rate'], \n",
    "    test_size=0.2,\n",
    "    random_state=42\n",
    ")"
   ]
  },
  {
   "cell_type": "code",
   "execution_count": 85,
   "metadata": {},
   "outputs": [],
   "source": [
    "# prepare the train dataset \n",
    "LGD_inputs_stage_2_train = LGD_inputs_stage_2_train[features_all] # in the train dataset, select only the columns in the feature all list \n",
    "LGD_inputs_stage_2_train.drop(features_reference_cat, axis=1, inplace=True) # drop the reference categories "
   ]
  },
  {
   "cell_type": "markdown",
   "metadata": {},
   "source": [
    "### Linear Regression with multivariate p-values"
   ]
  },
  {
   "cell_type": "code",
   "execution_count": 86,
   "metadata": {},
   "outputs": [],
   "source": [
    "from sklearn import linear_model\n",
    "from sklearn.metrics import mean_squared_error, r2_score"
   ]
  },
  {
   "cell_type": "code",
   "execution_count": 87,
   "metadata": {},
   "outputs": [],
   "source": [
    "# similar to the Logistic Regression model, sklearn does not provide p-values --> create a custom function \n",
    "import scipy.stats as stat\n",
    "\n",
    "# Since we are using an object oriented language such as Python, we can simply define our own \n",
    "# LinearRegression class (the same one from sklearn)\n",
    "# By typing the code below we will ovewrite a part of the class with one that includes p-values\n",
    "# Here's the full source code of the ORIGINAL class: https://github.com/scikit-learn/scikit-learn/blob/7b136e9/sklearn/linear_model/base.py#L362\n",
    "\n",
    "\n",
    "class LinearRegression(linear_model.LinearRegression):\n",
    "    \"\"\"\n",
    "    LinearRegression class after sklearn's, but calculate t-statistics\n",
    "    and p-values for model coefficients (betas).\n",
    "    Additional attributes available after .fit()\n",
    "    are `t` and `p` which are of the shape (y.shape[1], X.shape[1])\n",
    "    which is (n_features, n_coefs)\n",
    "    This class sets the intercept to 0 by default, since usually we include it\n",
    "    in X.\n",
    "    \"\"\"\n",
    "    \n",
    "    # nothing changes in __init__\n",
    "    def __init__(self, fit_intercept=True, normalize=False, copy_X=True,\n",
    "                 n_jobs=1):\n",
    "        self.fit_intercept = fit_intercept\n",
    "        self.normalize = normalize\n",
    "        self.copy_X = copy_X\n",
    "        self.n_jobs = n_jobs\n",
    "\n",
    "    \n",
    "    def fit(self, X, y, n_jobs=1):\n",
    "        self = super(LinearRegression, self).fit(X, y, n_jobs)\n",
    "        \n",
    "        # Calculate SSE (sum of squared errors)\n",
    "        # and SE (standard error)\n",
    "        sse = np.sum((self.predict(X) - y) ** 2, axis=0) / float(X.shape[0] - X.shape[1])\n",
    "        se = np.array([np.sqrt(np.diagonal(sse * np.linalg.inv(np.dot(X.T, X))))])\n",
    "\n",
    "        # compute the t-statistic for each feature\n",
    "        self.t = self.coef_ / se\n",
    "        # find the p-value for each feature\n",
    "        self.p = np.squeeze(2 * (1 - stat.t.cdf(np.abs(self.t), y.shape[0] - X.shape[1])))\n",
    "        return self"
   ]
  },
  {
   "cell_type": "code",
   "execution_count": 88,
   "metadata": {},
   "outputs": [
    {
     "data": {
      "text/plain": [
       "LinearRegression()"
      ]
     },
     "execution_count": 88,
     "metadata": {},
     "output_type": "execute_result"
    }
   ],
   "source": [
    "reg_LGD_stage2 = LinearRegression()\n",
    "reg_LGD_stage2.fit(LGD_inputs_stage_2_train, LGD_targets_stage_2_train)"
   ]
  },
  {
   "cell_type": "code",
   "execution_count": 89,
   "metadata": {},
   "outputs": [
    {
     "data": {
      "text/html": [
       "<div>\n",
       "<style scoped>\n",
       "    .dataframe tbody tr th:only-of-type {\n",
       "        vertical-align: middle;\n",
       "    }\n",
       "\n",
       "    .dataframe tbody tr th {\n",
       "        vertical-align: top;\n",
       "    }\n",
       "\n",
       "    .dataframe thead th {\n",
       "        text-align: right;\n",
       "    }\n",
       "</style>\n",
       "<table border=\"1\" class=\"dataframe\">\n",
       "  <thead>\n",
       "    <tr style=\"text-align: right;\">\n",
       "      <th></th>\n",
       "      <th>Feature name</th>\n",
       "      <th>Coefficients</th>\n",
       "      <th>p_values</th>\n",
       "    </tr>\n",
       "  </thead>\n",
       "  <tbody>\n",
       "    <tr>\n",
       "      <th>0</th>\n",
       "      <td>Intercept</td>\n",
       "      <td>2.406858e-01</td>\n",
       "      <td>NaN</td>\n",
       "    </tr>\n",
       "    <tr>\n",
       "      <th>1</th>\n",
       "      <td>grade:A</td>\n",
       "      <td>-6.826892e-02</td>\n",
       "      <td>0.000000e+00</td>\n",
       "    </tr>\n",
       "    <tr>\n",
       "      <th>2</th>\n",
       "      <td>grade:B</td>\n",
       "      <td>-5.083556e-02</td>\n",
       "      <td>0.000000e+00</td>\n",
       "    </tr>\n",
       "    <tr>\n",
       "      <th>3</th>\n",
       "      <td>grade:C</td>\n",
       "      <td>-3.748066e-02</td>\n",
       "      <td>0.000000e+00</td>\n",
       "    </tr>\n",
       "    <tr>\n",
       "      <th>4</th>\n",
       "      <td>grade:D</td>\n",
       "      <td>-2.717310e-02</td>\n",
       "      <td>1.970424e-12</td>\n",
       "    </tr>\n",
       "    <tr>\n",
       "      <th>5</th>\n",
       "      <td>grade:E</td>\n",
       "      <td>-1.315941e-02</td>\n",
       "      <td>1.918578e-03</td>\n",
       "    </tr>\n",
       "    <tr>\n",
       "      <th>6</th>\n",
       "      <td>grade:F</td>\n",
       "      <td>-5.260168e-03</td>\n",
       "      <td>2.748685e-01</td>\n",
       "    </tr>\n",
       "    <tr>\n",
       "      <th>7</th>\n",
       "      <td>home_ownership:MORTGAGE</td>\n",
       "      <td>2.832212e-03</td>\n",
       "      <td>6.050271e-02</td>\n",
       "    </tr>\n",
       "    <tr>\n",
       "      <th>8</th>\n",
       "      <td>home_ownership:NONE</td>\n",
       "      <td>1.459035e-01</td>\n",
       "      <td>9.092582e-05</td>\n",
       "    </tr>\n",
       "    <tr>\n",
       "      <th>9</th>\n",
       "      <td>home_ownership:OTHER</td>\n",
       "      <td>-9.475922e-03</td>\n",
       "      <td>6.436926e-01</td>\n",
       "    </tr>\n",
       "    <tr>\n",
       "      <th>10</th>\n",
       "      <td>home_ownership:OWN</td>\n",
       "      <td>5.000678e-03</td>\n",
       "      <td>3.963089e-02</td>\n",
       "    </tr>\n",
       "    <tr>\n",
       "      <th>11</th>\n",
       "      <td>verification_status:Not Verified</td>\n",
       "      <td>1.056585e-03</td>\n",
       "      <td>5.528332e-01</td>\n",
       "    </tr>\n",
       "    <tr>\n",
       "      <th>12</th>\n",
       "      <td>verification_status:Source Verified</td>\n",
       "      <td>-1.009915e-03</td>\n",
       "      <td>5.354622e-01</td>\n",
       "    </tr>\n",
       "    <tr>\n",
       "      <th>13</th>\n",
       "      <td>purpose:car</td>\n",
       "      <td>-2.995960e-03</td>\n",
       "      <td>6.340924e-01</td>\n",
       "    </tr>\n",
       "    <tr>\n",
       "      <th>14</th>\n",
       "      <td>purpose:debt_consolidation</td>\n",
       "      <td>8.206319e-05</td>\n",
       "      <td>9.646959e-01</td>\n",
       "    </tr>\n",
       "    <tr>\n",
       "      <th>15</th>\n",
       "      <td>purpose:educational</td>\n",
       "      <td>7.625467e-02</td>\n",
       "      <td>5.368894e-09</td>\n",
       "    </tr>\n",
       "    <tr>\n",
       "      <th>16</th>\n",
       "      <td>purpose:home_improvement</td>\n",
       "      <td>-3.702374e-03</td>\n",
       "      <td>2.729279e-01</td>\n",
       "    </tr>\n",
       "    <tr>\n",
       "      <th>17</th>\n",
       "      <td>purpose:house</td>\n",
       "      <td>-3.786803e-03</td>\n",
       "      <td>6.200015e-01</td>\n",
       "    </tr>\n",
       "    <tr>\n",
       "      <th>18</th>\n",
       "      <td>purpose:major_purchase</td>\n",
       "      <td>2.914439e-03</td>\n",
       "      <td>5.376877e-01</td>\n",
       "    </tr>\n",
       "    <tr>\n",
       "      <th>19</th>\n",
       "      <td>purpose:medical</td>\n",
       "      <td>1.078825e-02</td>\n",
       "      <td>7.391253e-02</td>\n",
       "    </tr>\n",
       "    <tr>\n",
       "      <th>20</th>\n",
       "      <td>purpose:moving</td>\n",
       "      <td>1.398692e-02</td>\n",
       "      <td>3.865040e-02</td>\n",
       "    </tr>\n",
       "    <tr>\n",
       "      <th>21</th>\n",
       "      <td>purpose:other</td>\n",
       "      <td>4.841345e-03</td>\n",
       "      <td>1.089028e-01</td>\n",
       "    </tr>\n",
       "    <tr>\n",
       "      <th>22</th>\n",
       "      <td>purpose:renewable_energy</td>\n",
       "      <td>2.420645e-02</td>\n",
       "      <td>1.423251e-01</td>\n",
       "    </tr>\n",
       "    <tr>\n",
       "      <th>23</th>\n",
       "      <td>purpose:small_business</td>\n",
       "      <td>6.212343e-04</td>\n",
       "      <td>8.692143e-01</td>\n",
       "    </tr>\n",
       "    <tr>\n",
       "      <th>24</th>\n",
       "      <td>purpose:vacation</td>\n",
       "      <td>-3.002398e-03</td>\n",
       "      <td>7.311861e-01</td>\n",
       "    </tr>\n",
       "    <tr>\n",
       "      <th>25</th>\n",
       "      <td>purpose:wedding</td>\n",
       "      <td>2.034853e-02</td>\n",
       "      <td>5.539872e-03</td>\n",
       "    </tr>\n",
       "    <tr>\n",
       "      <th>26</th>\n",
       "      <td>initial_list_status:w</td>\n",
       "      <td>1.464671e-02</td>\n",
       "      <td>4.662937e-15</td>\n",
       "    </tr>\n",
       "    <tr>\n",
       "      <th>27</th>\n",
       "      <td>term_int</td>\n",
       "      <td>3.316229e-04</td>\n",
       "      <td>2.042660e-02</td>\n",
       "    </tr>\n",
       "    <tr>\n",
       "      <th>28</th>\n",
       "      <td>emp_length_int</td>\n",
       "      <td>8.727462e-05</td>\n",
       "      <td>6.350976e-01</td>\n",
       "    </tr>\n",
       "    <tr>\n",
       "      <th>29</th>\n",
       "      <td>mths_since_issue_d</td>\n",
       "      <td>-1.521649e-03</td>\n",
       "      <td>0.000000e+00</td>\n",
       "    </tr>\n",
       "    <tr>\n",
       "      <th>30</th>\n",
       "      <td>mths_since_earliest_cr_line</td>\n",
       "      <td>3.418678e-05</td>\n",
       "      <td>1.087757e-04</td>\n",
       "    </tr>\n",
       "    <tr>\n",
       "      <th>31</th>\n",
       "      <td>funded_amnt</td>\n",
       "      <td>-2.186999e-07</td>\n",
       "      <td>6.992397e-01</td>\n",
       "    </tr>\n",
       "    <tr>\n",
       "      <th>32</th>\n",
       "      <td>int_rate</td>\n",
       "      <td>-2.544714e-03</td>\n",
       "      <td>1.887379e-14</td>\n",
       "    </tr>\n",
       "    <tr>\n",
       "      <th>33</th>\n",
       "      <td>installment</td>\n",
       "      <td>-1.037621e-05</td>\n",
       "      <td>5.568684e-01</td>\n",
       "    </tr>\n",
       "    <tr>\n",
       "      <th>34</th>\n",
       "      <td>annual_inc</td>\n",
       "      <td>6.389841e-08</td>\n",
       "      <td>1.308549e-03</td>\n",
       "    </tr>\n",
       "    <tr>\n",
       "      <th>35</th>\n",
       "      <td>dti</td>\n",
       "      <td>1.775655e-04</td>\n",
       "      <td>6.897933e-02</td>\n",
       "    </tr>\n",
       "    <tr>\n",
       "      <th>36</th>\n",
       "      <td>delinq_2yrs</td>\n",
       "      <td>1.757943e-03</td>\n",
       "      <td>5.043858e-02</td>\n",
       "    </tr>\n",
       "    <tr>\n",
       "      <th>37</th>\n",
       "      <td>inq_last_6mths</td>\n",
       "      <td>1.274095e-03</td>\n",
       "      <td>1.819423e-02</td>\n",
       "    </tr>\n",
       "    <tr>\n",
       "      <th>38</th>\n",
       "      <td>mths_since_last_delinq</td>\n",
       "      <td>-1.094747e-06</td>\n",
       "      <td>9.708935e-01</td>\n",
       "    </tr>\n",
       "    <tr>\n",
       "      <th>39</th>\n",
       "      <td>mths_since_last_record</td>\n",
       "      <td>-5.558083e-05</td>\n",
       "      <td>1.809354e-01</td>\n",
       "    </tr>\n",
       "    <tr>\n",
       "      <th>40</th>\n",
       "      <td>open_acc</td>\n",
       "      <td>-1.196505e-03</td>\n",
       "      <td>1.365854e-09</td>\n",
       "    </tr>\n",
       "    <tr>\n",
       "      <th>41</th>\n",
       "      <td>pub_rec</td>\n",
       "      <td>3.447322e-03</td>\n",
       "      <td>2.079574e-01</td>\n",
       "    </tr>\n",
       "    <tr>\n",
       "      <th>42</th>\n",
       "      <td>total_acc</td>\n",
       "      <td>4.766629e-04</td>\n",
       "      <td>5.133116e-08</td>\n",
       "    </tr>\n",
       "    <tr>\n",
       "      <th>43</th>\n",
       "      <td>acc_now_delinq</td>\n",
       "      <td>4.278394e-03</td>\n",
       "      <td>6.583494e-01</td>\n",
       "    </tr>\n",
       "    <tr>\n",
       "      <th>44</th>\n",
       "      <td>total_rev_hi_lim</td>\n",
       "      <td>2.263456e-07</td>\n",
       "      <td>2.592628e-08</td>\n",
       "    </tr>\n",
       "  </tbody>\n",
       "</table>\n",
       "</div>"
      ],
      "text/plain": [
       "                           Feature name  Coefficients      p_values\n",
       "0                             Intercept  2.406858e-01           NaN\n",
       "1                               grade:A -6.826892e-02  0.000000e+00\n",
       "2                               grade:B -5.083556e-02  0.000000e+00\n",
       "3                               grade:C -3.748066e-02  0.000000e+00\n",
       "4                               grade:D -2.717310e-02  1.970424e-12\n",
       "5                               grade:E -1.315941e-02  1.918578e-03\n",
       "6                               grade:F -5.260168e-03  2.748685e-01\n",
       "7               home_ownership:MORTGAGE  2.832212e-03  6.050271e-02\n",
       "8                   home_ownership:NONE  1.459035e-01  9.092582e-05\n",
       "9                  home_ownership:OTHER -9.475922e-03  6.436926e-01\n",
       "10                   home_ownership:OWN  5.000678e-03  3.963089e-02\n",
       "11     verification_status:Not Verified  1.056585e-03  5.528332e-01\n",
       "12  verification_status:Source Verified -1.009915e-03  5.354622e-01\n",
       "13                          purpose:car -2.995960e-03  6.340924e-01\n",
       "14           purpose:debt_consolidation  8.206319e-05  9.646959e-01\n",
       "15                  purpose:educational  7.625467e-02  5.368894e-09\n",
       "16             purpose:home_improvement -3.702374e-03  2.729279e-01\n",
       "17                        purpose:house -3.786803e-03  6.200015e-01\n",
       "18               purpose:major_purchase  2.914439e-03  5.376877e-01\n",
       "19                      purpose:medical  1.078825e-02  7.391253e-02\n",
       "20                       purpose:moving  1.398692e-02  3.865040e-02\n",
       "21                        purpose:other  4.841345e-03  1.089028e-01\n",
       "22             purpose:renewable_energy  2.420645e-02  1.423251e-01\n",
       "23               purpose:small_business  6.212343e-04  8.692143e-01\n",
       "24                     purpose:vacation -3.002398e-03  7.311861e-01\n",
       "25                      purpose:wedding  2.034853e-02  5.539872e-03\n",
       "26                initial_list_status:w  1.464671e-02  4.662937e-15\n",
       "27                             term_int  3.316229e-04  2.042660e-02\n",
       "28                       emp_length_int  8.727462e-05  6.350976e-01\n",
       "29                   mths_since_issue_d -1.521649e-03  0.000000e+00\n",
       "30          mths_since_earliest_cr_line  3.418678e-05  1.087757e-04\n",
       "31                          funded_amnt -2.186999e-07  6.992397e-01\n",
       "32                             int_rate -2.544714e-03  1.887379e-14\n",
       "33                          installment -1.037621e-05  5.568684e-01\n",
       "34                           annual_inc  6.389841e-08  1.308549e-03\n",
       "35                                  dti  1.775655e-04  6.897933e-02\n",
       "36                          delinq_2yrs  1.757943e-03  5.043858e-02\n",
       "37                       inq_last_6mths  1.274095e-03  1.819423e-02\n",
       "38               mths_since_last_delinq -1.094747e-06  9.708935e-01\n",
       "39               mths_since_last_record -5.558083e-05  1.809354e-01\n",
       "40                             open_acc -1.196505e-03  1.365854e-09\n",
       "41                              pub_rec  3.447322e-03  2.079574e-01\n",
       "42                            total_acc  4.766629e-04  5.133116e-08\n",
       "43                       acc_now_delinq  4.278394e-03  6.583494e-01\n",
       "44                     total_rev_hi_lim  2.263456e-07  2.592628e-08"
      ]
     },
     "execution_count": 89,
     "metadata": {},
     "output_type": "execute_result"
    }
   ],
   "source": [
    "feature_name = LGD_inputs_stage_2_train.columns.values\n",
    "summary_table = pd.DataFrame(columns=['Feature name'], data=feature_name)\n",
    "summary_table['Coefficients'] = np.transpose(reg_LGD_stage2.coef_)\n",
    "summary_table.index = summary_table.index + 1   #add 1 to the index of the summary table\n",
    "summary_table.loc[0] = ['Intercept', reg_LGD_stage2.intercept_] #set intercept value as location 0 of the summary table df. The newly added row, index 0, would be at the bottom of the df\n",
    "summary_table = summary_table.sort_index()      #sort the index from smallest to largest. Then assigned it back as the summary table\n",
    "p_values = np.append(\n",
    "    np.nan, \n",
    "    np.array(reg_LGD_stage2.p)\n",
    ")\n",
    "summary_table['p_values'] = p_values\n",
    "summary_table\n",
    "#NOTE: most coefficients are statistically significant\n",
    "#NOTE: interpreation: if the purpose of the loan is education, then the recovery rate of would be 7.63% higher than when the purpose is credit card\n",
    "#NOTE: interpreation: for any 1% increase in interest rate, the recovery rate is lower by 0.025"
   ]
  },
  {
   "cell_type": "markdown",
   "metadata": {},
   "source": [
    "### validate model accuracy"
   ]
  },
  {
   "cell_type": "markdown",
   "metadata": {},
   "source": [
    "#### predict test dataset (input)"
   ]
  },
  {
   "cell_type": "code",
   "execution_count": 90,
   "metadata": {},
   "outputs": [
    {
     "data": {
      "text/plain": [
       "array([0.09411793, 0.15456357, 0.13061439, ..., 0.11716741, 0.11144037,\n",
       "       0.12314059])"
      ]
     },
     "execution_count": 90,
     "metadata": {},
     "output_type": "execute_result"
    }
   ],
   "source": [
    "LGD_inputs_stage_2_test = LGD_inputs_stage_2_test[features_all] # use the test data, but only take the features that we used to train on\n",
    "LGD_inputs_stage_2_test.drop(features_reference_cat, axis=1, inplace=True) # drop the reference categories \n",
    "y_hat_test_LGD_stage2 = reg_LGD_stage2.predict(LGD_inputs_stage_2_test) # predict data using the multivariate Linear Regression instance above \n",
    "y_hat_test_LGD_stage2"
   ]
  },
  {
   "cell_type": "markdown",
   "metadata": {},
   "source": [
    "#### compare with test dataset (target)"
   ]
  },
  {
   "cell_type": "code",
   "execution_count": 94,
   "metadata": {},
   "outputs": [
    {
     "data": {
      "text/html": [
       "<div>\n",
       "<style scoped>\n",
       "    .dataframe tbody tr th:only-of-type {\n",
       "        vertical-align: middle;\n",
       "    }\n",
       "\n",
       "    .dataframe tbody tr th {\n",
       "        vertical-align: top;\n",
       "    }\n",
       "\n",
       "    .dataframe thead th {\n",
       "        text-align: right;\n",
       "    }\n",
       "</style>\n",
       "<table border=\"1\" class=\"dataframe\">\n",
       "  <thead>\n",
       "    <tr style=\"text-align: right;\">\n",
       "      <th></th>\n",
       "      <th>LGD_targets_stage_2_test</th>\n",
       "      <th>y_hat_test_LGD_stage2</th>\n",
       "    </tr>\n",
       "  </thead>\n",
       "  <tbody>\n",
       "    <tr>\n",
       "      <th>221921</th>\n",
       "      <td>0.033254</td>\n",
       "      <td>0.094118</td>\n",
       "    </tr>\n",
       "    <tr>\n",
       "      <th>338754</th>\n",
       "      <td>0.156128</td>\n",
       "      <td>0.154564</td>\n",
       "    </tr>\n",
       "    <tr>\n",
       "      <th>45237</th>\n",
       "      <td>0.181260</td>\n",
       "      <td>0.130614</td>\n",
       "    </tr>\n",
       "    <tr>\n",
       "      <th>13641</th>\n",
       "      <td>0.035356</td>\n",
       "      <td>0.083299</td>\n",
       "    </tr>\n",
       "    <tr>\n",
       "      <th>223984</th>\n",
       "      <td>0.046756</td>\n",
       "      <td>0.077058</td>\n",
       "    </tr>\n",
       "    <tr>\n",
       "      <th>...</th>\n",
       "      <td>...</td>\n",
       "      <td>...</td>\n",
       "    </tr>\n",
       "    <tr>\n",
       "      <th>133866</th>\n",
       "      <td>0.000940</td>\n",
       "      <td>0.099824</td>\n",
       "    </tr>\n",
       "    <tr>\n",
       "      <th>266256</th>\n",
       "      <td>0.141676</td>\n",
       "      <td>0.165443</td>\n",
       "    </tr>\n",
       "    <tr>\n",
       "      <th>113401</th>\n",
       "      <td>0.094708</td>\n",
       "      <td>0.117167</td>\n",
       "    </tr>\n",
       "    <tr>\n",
       "      <th>94097</th>\n",
       "      <td>0.095061</td>\n",
       "      <td>0.111440</td>\n",
       "    </tr>\n",
       "    <tr>\n",
       "      <th>127055</th>\n",
       "      <td>0.125814</td>\n",
       "      <td>0.123141</td>\n",
       "    </tr>\n",
       "  </tbody>\n",
       "</table>\n",
       "<p>4875 rows × 2 columns</p>\n",
       "</div>"
      ],
      "text/plain": [
       "        LGD_targets_stage_2_test  y_hat_test_LGD_stage2\n",
       "221921                  0.033254               0.094118\n",
       "338754                  0.156128               0.154564\n",
       "45237                   0.181260               0.130614\n",
       "13641                   0.035356               0.083299\n",
       "223984                  0.046756               0.077058\n",
       "...                          ...                    ...\n",
       "133866                  0.000940               0.099824\n",
       "266256                  0.141676               0.165443\n",
       "113401                  0.094708               0.117167\n",
       "94097                   0.095061               0.111440\n",
       "127055                  0.125814               0.123141\n",
       "\n",
       "[4875 rows x 2 columns]"
      ]
     },
     "execution_count": 94,
     "metadata": {},
     "output_type": "execute_result"
    }
   ],
   "source": [
    "LGD_targets_stage_2_test_copy = LGD_targets_stage_2_test    # take a copy of target test dataset\n",
    "LGD_targets_stage_2_test_copy.reset_index(drop=True, inplace=True)      # reset index\n",
    "df_actual_predicted2 = pd.concat([LGD_targets_stage_2_test_copy, pd.DataFrame(y_hat_test_LGD_stage2)], axis=1)     # combine this df with the predicted probab df above\n",
    "df_actual_predicted2.columns = ['LGD_targets_stage_2_test','y_hat_test_LGD_stage2']\n",
    "df_actual_predicted2.index = LGD_inputs_stage_2_test.index   # set index to similar to the input test dataset\n",
    "df_actual_predicted2"
   ]
  },
  {
   "cell_type": "markdown",
   "metadata": {},
   "source": [
    "#### use correlation between actual & predicted"
   ]
  },
  {
   "cell_type": "code",
   "execution_count": 95,
   "metadata": {},
   "outputs": [
    {
     "data": {
      "text/html": [
       "<div>\n",
       "<style scoped>\n",
       "    .dataframe tbody tr th:only-of-type {\n",
       "        vertical-align: middle;\n",
       "    }\n",
       "\n",
       "    .dataframe tbody tr th {\n",
       "        vertical-align: top;\n",
       "    }\n",
       "\n",
       "    .dataframe thead th {\n",
       "        text-align: right;\n",
       "    }\n",
       "</style>\n",
       "<table border=\"1\" class=\"dataframe\">\n",
       "  <thead>\n",
       "    <tr style=\"text-align: right;\">\n",
       "      <th></th>\n",
       "      <th>LGD_targets_stage_2_test</th>\n",
       "      <th>y_hat_test_LGD_stage2</th>\n",
       "    </tr>\n",
       "  </thead>\n",
       "  <tbody>\n",
       "    <tr>\n",
       "      <th>LGD_targets_stage_2_test</th>\n",
       "      <td>1.000000</td>\n",
       "      <td>0.307996</td>\n",
       "    </tr>\n",
       "    <tr>\n",
       "      <th>y_hat_test_LGD_stage2</th>\n",
       "      <td>0.307996</td>\n",
       "      <td>1.000000</td>\n",
       "    </tr>\n",
       "  </tbody>\n",
       "</table>\n",
       "</div>"
      ],
      "text/plain": [
       "                          LGD_targets_stage_2_test  y_hat_test_LGD_stage2\n",
       "LGD_targets_stage_2_test                  1.000000               0.307996\n",
       "y_hat_test_LGD_stage2                     0.307996               1.000000"
      ]
     },
     "execution_count": 95,
     "metadata": {},
     "output_type": "execute_result"
    }
   ],
   "source": [
    "# can use correlation to compare the predicted value and the actual values\n",
    "df_actual_predicted2.corr()\n",
    "#NOTE: the correlation of 0.308 is weak in general. But satisfy the LGD model. In fact, if the correlation is too high, the model would be questionable. "
   ]
  },
  {
   "cell_type": "markdown",
   "metadata": {},
   "source": [
    "#### evaluate residual of (actual & predicted)"
   ]
  },
  {
   "cell_type": "code",
   "execution_count": 96,
   "metadata": {},
   "outputs": [
    {
     "data": {
      "text/plain": [
       "<seaborn.axisgrid.FacetGrid at 0x1c388c709d0>"
      ]
     },
     "execution_count": 96,
     "metadata": {},
     "output_type": "execute_result"
    },
    {
     "data": {
      "image/png": "[encoded data removed]",
      "text/plain": [
       "<Figure size 360x360 with 1 Axes>"
      ]
     },
     "metadata": {},
     "output_type": "display_data"
    }
   ],
   "source": [
    "# residual of (actual & predicted) = difference between (actual and predicted values) --> if the residual is close to normal and have mean of zero, the actual and predicted value would be alike. \n",
    "sns.displot(LGD_targets_stage_2_test - y_hat_test_LGD_stage2)    # plot distribution of the residual of (actual & predicted)\n",
    "#NOTE: satisfied"
   ]
  },
  {
   "cell_type": "markdown",
   "metadata": {},
   "source": [
    "### save Stage 2 model"
   ]
  },
  {
   "cell_type": "code",
   "execution_count": 97,
   "metadata": {},
   "outputs": [],
   "source": [
    "pickle.dump(reg_LGD_stage2, open('lgd_model_stage_2.sav', 'wb'))"
   ]
  },
  {
   "cell_type": "markdown",
   "metadata": {},
   "source": [
    "## Combine Stage 1 and Stage 2"
   ]
  },
  {
   "cell_type": "code",
   "execution_count": 98,
   "metadata": {},
   "outputs": [
    {
     "data": {
      "text/plain": [
       "array([0.1193906 , 0.09605635, 0.13367631, ..., 0.12078611, 0.11587422,\n",
       "       0.15667447])"
      ]
     },
     "execution_count": 98,
     "metadata": {},
     "output_type": "execute_result"
    }
   ],
   "source": [
    "# use stage 2 model to predict all values in the test dataset. The LGD_inputs_stage_1_test dataset does not exclude where actual recovery rate is greater than 0 --> use that dataset to predict\n",
    "y_hat_test_LGD_stage2_all = reg_LGD_stage2.predict(LGD_inputs_stage_1_test)\n",
    "y_hat_test_LGD_stage2_all   # contains estimated recovery rate by linear regression, regardless whether they are predicted to be 0 or 1 by the 1st stage"
   ]
  },
  {
   "cell_type": "code",
   "execution_count": 101,
   "metadata": {},
   "outputs": [
    {
     "name": "stdout",
     "output_type": "stream",
     "text": [
      "(8648,)\n",
      "(8648,)\n"
     ]
    }
   ],
   "source": [
    "# double check the shape of test y_hat Stage1 and test y_hat Stage2\n",
    "print(y_hat_test_LGD_stage1.shape)\n",
    "print(y_hat_test_LGD_stage2_all.shape)"
   ]
  },
  {
   "cell_type": "code",
   "execution_count": null,
   "metadata": {},
   "outputs": [],
   "source": [
    "# can combine recovery estimation by: multiplying the predicted values of Stage 1 with predicted values of Stage 2 <-- because:\n",
    "# - if Stage 1 model predicts that value recovery rate would be 0 (meaning 0 recovery rate), multiply it by the Stage 2 predicted value would still yield 0 recovery rate in overall. \n",
    "# - if Stage 1 model predicts that value recovery rate would be 1 (meaning more than 0 recovery rate), multiply it by the Stage 2 predicted value would still yield Stage 2's recovery rate in overall."
   ]
  },
  {
   "cell_type": "code",
   "execution_count": 103,
   "metadata": {},
   "outputs": [],
   "source": [
    "y_hat_test_LGD = y_hat_test_LGD_stage1 * y_hat_test_LGD_stage2_all"
   ]
  },
  {
   "cell_type": "code",
   "execution_count": 104,
   "metadata": {},
   "outputs": [
    {
     "data": {
      "text/html": [
       "<div>\n",
       "<style scoped>\n",
       "    .dataframe tbody tr th:only-of-type {\n",
       "        vertical-align: middle;\n",
       "    }\n",
       "\n",
       "    .dataframe tbody tr th {\n",
       "        vertical-align: top;\n",
       "    }\n",
       "\n",
       "    .dataframe thead th {\n",
       "        text-align: right;\n",
       "    }\n",
       "</style>\n",
       "<table border=\"1\" class=\"dataframe\">\n",
       "  <thead>\n",
       "    <tr style=\"text-align: right;\">\n",
       "      <th></th>\n",
       "      <th>0</th>\n",
       "    </tr>\n",
       "  </thead>\n",
       "  <tbody>\n",
       "    <tr>\n",
       "      <th>count</th>\n",
       "      <td>8648.000000</td>\n",
       "    </tr>\n",
       "    <tr>\n",
       "      <th>mean</th>\n",
       "      <td>0.072669</td>\n",
       "    </tr>\n",
       "    <tr>\n",
       "      <th>std</th>\n",
       "      <td>0.052901</td>\n",
       "    </tr>\n",
       "    <tr>\n",
       "      <th>min</th>\n",
       "      <td>-0.007634</td>\n",
       "    </tr>\n",
       "    <tr>\n",
       "      <th>25%</th>\n",
       "      <td>0.000000</td>\n",
       "    </tr>\n",
       "    <tr>\n",
       "      <th>50%</th>\n",
       "      <td>0.090149</td>\n",
       "    </tr>\n",
       "    <tr>\n",
       "      <th>75%</th>\n",
       "      <td>0.115106</td>\n",
       "    </tr>\n",
       "    <tr>\n",
       "      <th>max</th>\n",
       "      <td>0.236973</td>\n",
       "    </tr>\n",
       "  </tbody>\n",
       "</table>\n",
       "</div>"
      ],
      "text/plain": [
       "                 0\n",
       "count  8648.000000\n",
       "mean      0.072669\n",
       "std       0.052901\n",
       "min      -0.007634\n",
       "25%       0.000000\n",
       "50%       0.090149\n",
       "75%       0.115106\n",
       "max       0.236973"
      ]
     },
     "execution_count": 104,
     "metadata": {},
     "output_type": "execute_result"
    }
   ],
   "source": [
    "pd.DataFrame(y_hat_test_LGD).describe()\n",
    "#NOTE: minimum values is less than 0 --> meaning negative recovery rate --> not make sense --> this is because the Linear Regression is not constraint by negative values"
   ]
  },
  {
   "cell_type": "code",
   "execution_count": 105,
   "metadata": {},
   "outputs": [
    {
     "data": {
      "text/html": [
       "<div>\n",
       "<style scoped>\n",
       "    .dataframe tbody tr th:only-of-type {\n",
       "        vertical-align: middle;\n",
       "    }\n",
       "\n",
       "    .dataframe tbody tr th {\n",
       "        vertical-align: top;\n",
       "    }\n",
       "\n",
       "    .dataframe thead th {\n",
       "        text-align: right;\n",
       "    }\n",
       "</style>\n",
       "<table border=\"1\" class=\"dataframe\">\n",
       "  <thead>\n",
       "    <tr style=\"text-align: right;\">\n",
       "      <th></th>\n",
       "      <th>0</th>\n",
       "    </tr>\n",
       "  </thead>\n",
       "  <tbody>\n",
       "    <tr>\n",
       "      <th>count</th>\n",
       "      <td>8648.000000</td>\n",
       "    </tr>\n",
       "    <tr>\n",
       "      <th>mean</th>\n",
       "      <td>0.072671</td>\n",
       "    </tr>\n",
       "    <tr>\n",
       "      <th>std</th>\n",
       "      <td>0.052898</td>\n",
       "    </tr>\n",
       "    <tr>\n",
       "      <th>min</th>\n",
       "      <td>0.000000</td>\n",
       "    </tr>\n",
       "    <tr>\n",
       "      <th>25%</th>\n",
       "      <td>0.000000</td>\n",
       "    </tr>\n",
       "    <tr>\n",
       "      <th>50%</th>\n",
       "      <td>0.090149</td>\n",
       "    </tr>\n",
       "    <tr>\n",
       "      <th>75%</th>\n",
       "      <td>0.115106</td>\n",
       "    </tr>\n",
       "    <tr>\n",
       "      <th>max</th>\n",
       "      <td>0.236973</td>\n",
       "    </tr>\n",
       "  </tbody>\n",
       "</table>\n",
       "</div>"
      ],
      "text/plain": [
       "                 0\n",
       "count  8648.000000\n",
       "mean      0.072671\n",
       "std       0.052898\n",
       "min       0.000000\n",
       "25%       0.000000\n",
       "50%       0.090149\n",
       "75%       0.115106\n",
       "max       0.236973"
      ]
     },
     "execution_count": 105,
     "metadata": {},
     "output_type": "execute_result"
    }
   ],
   "source": [
    "# adjust predicted values\n",
    "y_hat_test_LGD = np.where(y_hat_test_LGD < 0 , 0, y_hat_test_LGD)\n",
    "y_hat_test_LGD = np.where(y_hat_test_LGD > 1 , 1, y_hat_test_LGD)\n",
    "pd.DataFrame(y_hat_test_LGD).describe()"
   ]
  }
 ],
 "metadata": {
  "kernelspec": {
   "display_name": "Python 3.8.5 ('CreditRiskModeling')",
   "language": "python",
   "name": "python3"
  },
  "language_info": {
   "codemirror_mode": {
    "name": "ipython",
    "version": 3
   },
   "file_extension": ".py",
   "mimetype": "text/x-python",
   "name": "python",
   "nbconvert_exporter": "python",
   "pygments_lexer": "ipython3",
   "version": "3.8.5"
  },
  "orig_nbformat": 4,
  "vscode": {
   "interpreter": {
    "hash": "1718c7b4e448dd24d09601cfc62e5bb6ee031c539cde4876c6002180729e9726"
   }
  }
 },
 "nbformat": 4,
 "nbformat_minor": 2
}
